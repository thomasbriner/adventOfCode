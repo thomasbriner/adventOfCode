{
 "cells": [
  {
   "cell_type": "markdown",
   "metadata": {},
   "source": [
    "# Day 1"
   ]
  },
  {
   "cell_type": "code",
   "execution_count": 1,
   "metadata": {},
   "outputs": [],
   "source": [
    "with open('input/input_day1.txt') as f:\n",
    "    lines = f.readlines()"
   ]
  },
  {
   "cell_type": "code",
   "execution_count": 2,
   "metadata": {},
   "outputs": [],
   "source": [
    "elves = []\n",
    "new_elve = []\n",
    "for line in lines:\n",
    "    if line == '\\n':\n",
    "        elves.append(new_elve)\n",
    "        new_elve = []\n",
    "    else:\n",
    "        new_elve.append(int(line.replace('\\n','')))\n"
   ]
  },
  {
   "cell_type": "code",
   "execution_count": 3,
   "metadata": {},
   "outputs": [],
   "source": [
    "sums = [sum(elve) for elve in elves]"
   ]
  },
  {
   "cell_type": "code",
   "execution_count": 4,
   "metadata": {},
   "outputs": [
    {
     "data": {
      "text/plain": [
       "69289"
      ]
     },
     "execution_count": 4,
     "metadata": {},
     "output_type": "execute_result"
    }
   ],
   "source": [
    "# Wieviel Kalorien hat Elfe mit den meisten Kalorien?\n",
    "max(sums)"
   ]
  },
  {
   "cell_type": "code",
   "execution_count": 5,
   "metadata": {},
   "outputs": [],
   "source": [
    "sums.sort()"
   ]
  },
  {
   "cell_type": "code",
   "execution_count": 6,
   "metadata": {
    "scrolled": true
   },
   "outputs": [
    {
     "data": {
      "text/plain": [
       "[68005, 68321, 69289]"
      ]
     },
     "execution_count": 6,
     "metadata": {},
     "output_type": "execute_result"
    }
   ],
   "source": [
    "sums[-3:]"
   ]
  },
  {
   "cell_type": "code",
   "execution_count": 7,
   "metadata": {},
   "outputs": [
    {
     "data": {
      "text/plain": [
       "205615"
      ]
     },
     "execution_count": 7,
     "metadata": {},
     "output_type": "execute_result"
    }
   ],
   "source": [
    "# Wieviel haben die drei Elfen mit den meisten Kalorien zusammen?\n",
    "sum(sums[-3:])"
   ]
  },
  {
   "cell_type": "markdown",
   "metadata": {},
   "source": [
    "# Day 2"
   ]
  },
  {
   "cell_type": "code",
   "execution_count": 8,
   "metadata": {},
   "outputs": [],
   "source": [
    "from enum import Enum"
   ]
  },
  {
   "cell_type": "code",
   "execution_count": 9,
   "metadata": {},
   "outputs": [],
   "source": [
    "class RPS_choice(Enum):\n",
    "    ROCK = 1\n",
    "    PAPER = 2\n",
    "    SCISSORS = 3"
   ]
  },
  {
   "cell_type": "code",
   "execution_count": 10,
   "metadata": {},
   "outputs": [],
   "source": [
    "ROCK = 1\n",
    "PAPER = 2\n",
    "SCISSORS = 3\n",
    "\n",
    "LOSS = 0\n",
    "DRAW = 3\n",
    "WIN = 6\n",
    "\n",
    "elves_choice = dict()\n",
    "elves_choice ['A'] = ROCK\n",
    "elves_choice ['B'] = PAPER\n",
    "elves_choice ['C'] = SCISSORS\n",
    "\n",
    "my_choice = dict()\n",
    "my_choice ['X'] = ROCK\n",
    "my_choice ['Y'] = PAPER\n",
    "my_choice ['Z'] = SCISSORS\n",
    "\n",
    "def my_result(elve, me):\n",
    "    if elve == me:\n",
    "        return DRAW    \n",
    "    if elve == ROCK and me == PAPER:\n",
    "        return WIN\n",
    "    if elve == PAPER and me == SCISSORS:\n",
    "        return WIN\n",
    "    if elve == SCISSORS and me == ROCK:\n",
    "        return WIN\n",
    "    return LOSS\n",
    "\n",
    "\n",
    "def process_game(elve, me):\n",
    "#     print(elve, me)\n",
    "    game_result = my_result(elves_choice[elve], my_choice[me])\n",
    "#     print(game_result)\n",
    "    return game_result\n",
    "        "
   ]
  },
  {
   "cell_type": "code",
   "execution_count": 11,
   "metadata": {},
   "outputs": [],
   "source": [
    "with open('input/input_day2.txt') as f:\n",
    "    lines = f.readlines()"
   ]
  },
  {
   "cell_type": "code",
   "execution_count": 12,
   "metadata": {},
   "outputs": [
    {
     "data": {
      "text/plain": [
       "13682"
      ]
     },
     "execution_count": 12,
     "metadata": {},
     "output_type": "execute_result"
    }
   ],
   "source": [
    "results = []\n",
    "for line in lines:\n",
    "    line = line.replace('\\n','')\n",
    "    inputs = line.split(' ')\n",
    "    game_result = process_game(inputs[0], inputs[1])\n",
    "    input_result = my_choice[inputs[1]]\n",
    "    total_result = game_result + input_result\n",
    "#     print(inputs[0], inputs[1], game_result, input_result, total_result)\n",
    "    results.append(total_result)\n",
    "\n",
    "sum(results)"
   ]
  },
  {
   "cell_type": "code",
   "execution_count": 13,
   "metadata": {},
   "outputs": [],
   "source": [
    "desired_result = dict()\n",
    "desired_result ['X'] = LOSS\n",
    "desired_result ['Y'] = DRAW\n",
    "desired_result ['Z'] = WIN\n"
   ]
  },
  {
   "cell_type": "code",
   "execution_count": 14,
   "metadata": {},
   "outputs": [],
   "source": [
    "def what_should_i_chose(elve, result):\n",
    "    if result == DRAW:\n",
    "        return elve\n",
    "    if result == WIN:\n",
    "        if elve == ROCK:\n",
    "            return PAPER\n",
    "        if elve == PAPER:\n",
    "            return SCISSORS\n",
    "        if elve == SCISSORS:\n",
    "            return ROCK\n",
    "    if result == LOSS:\n",
    "        if elve == ROCK:\n",
    "            return SCISSORS\n",
    "        if elve == PAPER:\n",
    "            return ROCK\n",
    "        if elve == SCISSORS:\n",
    "            return PAPER\n",
    "    raise Exception\n"
   ]
  },
  {
   "cell_type": "code",
   "execution_count": 15,
   "metadata": {},
   "outputs": [
    {
     "data": {
      "text/plain": [
       "2"
      ]
     },
     "execution_count": 15,
     "metadata": {},
     "output_type": "execute_result"
    }
   ],
   "source": [
    "what_should_i_chose(ROCK, WIN)"
   ]
  },
  {
   "cell_type": "code",
   "execution_count": 16,
   "metadata": {},
   "outputs": [],
   "source": [
    "my_choice_letter = dict()\n",
    "my_choice_letter[ROCK] = 'X'\n",
    "my_choice_letter[PAPER] = 'Y'\n",
    "my_choice_letter[SCISSORS] = 'Z'"
   ]
  },
  {
   "cell_type": "code",
   "execution_count": 17,
   "metadata": {},
   "outputs": [
    {
     "data": {
      "text/plain": [
       "12881"
      ]
     },
     "execution_count": 17,
     "metadata": {},
     "output_type": "execute_result"
    }
   ],
   "source": [
    "results = []\n",
    "for line in lines:\n",
    "    line = line.replace('\\n','')\n",
    "    inputs = line.split(' ')\n",
    "    elve = elves_choice[inputs[0]]\n",
    "    chosen_result = desired_result[inputs[1]]   \n",
    "    me = what_should_i_chose(elve, desired_result[inputs[1]])\n",
    "    game_result = process_game(inputs[0], my_choice_letter[me])\n",
    "    input_result = me\n",
    "    total_result = game_result + input_result\n",
    "#     print(inputs[0], elve, inputs[1], chosen_result, me, game_result, input_result, total_result)\n",
    "\n",
    "    results.append(total_result)\n",
    "\n",
    "sum(results)"
   ]
  },
  {
   "cell_type": "markdown",
   "metadata": {},
   "source": [
    "# Day 3"
   ]
  },
  {
   "cell_type": "code",
   "execution_count": 18,
   "metadata": {},
   "outputs": [],
   "source": [
    "with open('input/input_day3.txt') as f:\n",
    "    lines = f.readlines()"
   ]
  },
  {
   "cell_type": "code",
   "execution_count": 19,
   "metadata": {},
   "outputs": [],
   "source": [
    "def get_priority(char):\n",
    "    if ord(char) > 96:\n",
    "        return ord(char)-96\n",
    "    else:\n",
    "        return ord(char)-38"
   ]
  },
  {
   "cell_type": "code",
   "execution_count": 20,
   "metadata": {},
   "outputs": [],
   "source": [
    "priorities = []\n",
    "for line in lines:\n",
    "    line = line.replace('\\n','')\n",
    "    middle = int(len(line)/2)\n",
    "    first_compartement = set(*[line[0:middle]])\n",
    "    second_compartement = set(*[line[middle:]])\n",
    "    shared = first_compartement.intersection(second_compartement)\n",
    "    assert(len(shared) == 1)\n",
    "    prio = get_priority(next(iter(shared)))\n",
    "    priorities.append(prio)\n",
    "#     print(line, shared, prio, first_compartement, second_compartement)\n",
    " "
   ]
  },
  {
   "cell_type": "code",
   "execution_count": 21,
   "metadata": {},
   "outputs": [
    {
     "data": {
      "text/plain": [
       "8053"
      ]
     },
     "execution_count": 21,
     "metadata": {},
     "output_type": "execute_result"
    }
   ],
   "source": [
    "sum(priorities)"
   ]
  },
  {
   "cell_type": "code",
   "execution_count": 22,
   "metadata": {},
   "outputs": [],
   "source": [
    "lines = [line.replace('\\n','') for line in lines]"
   ]
  },
  {
   "cell_type": "code",
   "execution_count": 23,
   "metadata": {},
   "outputs": [],
   "source": [
    "priorities = []\n",
    "i = 0\n",
    "while i < len(lines):\n",
    "    first_elve = set(*[lines[i]])\n",
    "    i = i+1\n",
    "    second_elve = set(*[lines[i]])\n",
    "    i = i+1\n",
    "    third_elve = set(*[lines[i]])\n",
    "    i = i+1\n",
    "    shared = first_elve.intersection(second_elve).intersection(third_elve)\n",
    "    assert(len(shared) == 1)\n",
    "    prio = get_priority(next(iter(shared)))\n",
    "    priorities.append(prio)\n",
    "#     print(shared, prio, first_elve, second_elve, third_elve)\n",
    "    \n",
    "    \n",
    "    \n"
   ]
  },
  {
   "cell_type": "code",
   "execution_count": 24,
   "metadata": {},
   "outputs": [
    {
     "data": {
      "text/plain": [
       "2425"
      ]
     },
     "execution_count": 24,
     "metadata": {},
     "output_type": "execute_result"
    }
   ],
   "source": [
    "sum(priorities)"
   ]
  },
  {
   "cell_type": "markdown",
   "metadata": {},
   "source": [
    "# Day 4"
   ]
  },
  {
   "cell_type": "code",
   "execution_count": 25,
   "metadata": {},
   "outputs": [],
   "source": [
    "with open('input/input_day4.txt') as f:\n",
    "    lines = f.readlines()\n",
    "lines = [line.replace('\\n','') for line in lines]\n",
    "# lines"
   ]
  },
  {
   "cell_type": "code",
   "execution_count": 26,
   "metadata": {},
   "outputs": [],
   "source": [
    "def expand_range(range_string):\n",
    "    borders = range_string.split('-')\n",
    "    result = set()\n",
    "    for num in range(int(borders[0]), int(borders[1])+1):\n",
    "        result.add(num)\n",
    "    return result\n",
    "\n",
    "# expand_range('12-36')"
   ]
  },
  {
   "cell_type": "code",
   "execution_count": 27,
   "metadata": {},
   "outputs": [],
   "source": [
    "nof_subsets = 0\n",
    "nof_overlaps = 0\n",
    "for line in lines:\n",
    "    section_ranges = line.split(',')\n",
    "    first_elve = expand_range(section_ranges[0])\n",
    "    second_elve = expand_range(section_ranges[1])\n",
    "    if (first_elve.issubset(second_elve) or second_elve.issubset(first_elve)):\n",
    "        nof_subsets = nof_subsets + 1\n",
    "    intersection = len(first_elve.intersection(second_elve))\n",
    "    if intersection > 0:\n",
    "        nof_overlaps = nof_overlaps + 1\n",
    "#     print(intersection, first_elve, second_elve)\n",
    "    "
   ]
  },
  {
   "cell_type": "code",
   "execution_count": 28,
   "metadata": {},
   "outputs": [
    {
     "data": {
      "text/plain": [
       "528"
      ]
     },
     "execution_count": 28,
     "metadata": {},
     "output_type": "execute_result"
    }
   ],
   "source": [
    "nof_subsets"
   ]
  },
  {
   "cell_type": "code",
   "execution_count": 29,
   "metadata": {},
   "outputs": [
    {
     "data": {
      "text/plain": [
       "881"
      ]
     },
     "execution_count": 29,
     "metadata": {},
     "output_type": "execute_result"
    }
   ],
   "source": [
    "nof_overlaps"
   ]
  },
  {
   "cell_type": "markdown",
   "metadata": {},
   "source": [
    "# Day 5"
   ]
  },
  {
   "cell_type": "code",
   "execution_count": 30,
   "metadata": {},
   "outputs": [],
   "source": [
    "with open('input/input_day5.txt') as f:\n",
    "    lines = f.readlines()\n",
    "lines = [line.replace('\\n','') for line in lines]\n",
    "lines\n",
    "\n",
    "stack_infos = []\n",
    "move_instructions = []\n",
    "\n",
    "stack_infos_completed = False\n",
    "for line in lines:\n",
    "    if line.strip().startswith('['):\n",
    "        stack_infos.append(line)\n",
    "    elif line.strip().startswith('move'):\n",
    "        move_instructions.append(line)\n",
    "\n",
    "# stack_infos\n",
    "# move_instructions"
   ]
  },
  {
   "cell_type": "code",
   "execution_count": 31,
   "metadata": {},
   "outputs": [],
   "source": [
    "def get_nof_stacks(input):\n",
    "    for line in input:\n",
    "        line_stripped = line.strip()\n",
    "        if len(line_stripped) > 0 and line_stripped[0].isdigit():\n",
    "            return int(line_stripped.split(' ')[-1])\n",
    "\n",
    "nof_stacks = get_nof_stacks(lines)"
   ]
  },
  {
   "cell_type": "code",
   "execution_count": 32,
   "metadata": {},
   "outputs": [
    {
     "data": {
      "text/plain": [
       "9"
      ]
     },
     "execution_count": 32,
     "metadata": {},
     "output_type": "execute_result"
    }
   ],
   "source": [
    "nof_stacks"
   ]
  },
  {
   "cell_type": "code",
   "execution_count": 33,
   "metadata": {},
   "outputs": [],
   "source": [
    "def get_crate(crate_with_brackets):\n",
    "    return crate_with_brackets[1]\n"
   ]
  },
  {
   "cell_type": "code",
   "execution_count": 34,
   "metadata": {},
   "outputs": [
    {
     "data": {
      "text/plain": [
       "[['D', 'M', 'S', 'Z', 'R', 'F', 'W', 'N'],\n",
       " ['W', 'P', 'Q', 'G', 'S'],\n",
       " ['W', 'R', 'V', 'Q', 'F', 'N', 'J', 'C'],\n",
       " ['F', 'Z', 'P', 'C', 'G', 'D', 'L'],\n",
       " ['T', 'P', 'S'],\n",
       " ['H', 'D', 'F', 'W', 'R', 'L'],\n",
       " ['Z', 'N', 'D', 'C'],\n",
       " ['W', 'N', 'R', 'F', 'V', 'S', 'J', 'Q'],\n",
       " ['R', 'M', 'S', 'G', 'Z', 'W', 'V']]"
      ]
     },
     "execution_count": 34,
     "metadata": {},
     "output_type": "execute_result"
    }
   ],
   "source": [
    "stacks = []\n",
    "for i in range(0, nof_stacks):\n",
    "    stacks.append([])\n",
    "stacks\n",
    "\n",
    "for line in stack_infos:\n",
    "#     print(line)\n",
    "    for i in range(0, nof_stacks):\n",
    "#         print('stack {}'.format(i))\n",
    "        crate = get_crate(line[i*4: (i*4)+3])\n",
    "#         print(crate)\n",
    "        if crate != ' ':\n",
    "            stacks[i].append(crate)\n",
    "\n",
    "for stack in stacks:\n",
    "    stack.reverse()\n",
    "            \n",
    "stacks"
   ]
  },
  {
   "cell_type": "code",
   "execution_count": 35,
   "metadata": {},
   "outputs": [],
   "source": [
    "import re\n",
    "\n",
    "pattern = 'move\\s*([0-9]*)\\sfrom\\s*([0-9]*)\\s*to\\s*([0-9]*)'\n",
    "for instruction in move_instructions:\n",
    "    match = re.search(pattern,instruction)\n",
    "    if match:\n",
    "#         print(match.groups())\n",
    "        how_many = int(match.group(1))\n",
    "        from_stack = int(match.group(2))\n",
    "        to_stack = int(match.group(3))\n",
    "        for i in range(how_many):\n",
    "            crate = stacks[from_stack-1].pop()\n",
    "            stacks[to_stack-1].append(crate)\n",
    "        \n",
    "    else:\n",
    "        raise Exception"
   ]
  },
  {
   "cell_type": "code",
   "execution_count": 36,
   "metadata": {},
   "outputs": [
    {
     "data": {
      "text/plain": [
       "[['F'],\n",
       " ['W'],\n",
       " ['D', 'S', 'G', 'M', 'V', 'S', 'W', 'Q', 'P', 'N'],\n",
       " ['R', 'P', 'F', 'W', 'R', 'M', 'Z', 'S'],\n",
       " ['H'],\n",
       " ['V', 'F', 'G', 'G', 'N', 'D', 'R', 'L'],\n",
       " ['Z', 'T', 'Z', 'C', 'V', 'P', 'Q', 'F', 'F', 'W', 'S', 'Q', 'N', 'J', 'D'],\n",
       " ['W', 'C', 'C', 'S', 'D', 'R', 'R', 'N'],\n",
       " ['J', 'W', 'L', 'Z']]"
      ]
     },
     "execution_count": 36,
     "metadata": {},
     "output_type": "execute_result"
    }
   ],
   "source": [
    "stacks"
   ]
  },
  {
   "cell_type": "code",
   "execution_count": 37,
   "metadata": {},
   "outputs": [
    {
     "data": {
      "text/plain": [
       "'FWNSHLDNZ'"
      ]
     },
     "execution_count": 37,
     "metadata": {},
     "output_type": "execute_result"
    }
   ],
   "source": [
    "solution = ''\n",
    "for stack in stacks:\n",
    "    solution = solution + stack[-1]\n",
    "solution"
   ]
  },
  {
   "cell_type": "markdown",
   "metadata": {},
   "source": [
    "# Part 2"
   ]
  },
  {
   "cell_type": "code",
   "execution_count": 38,
   "metadata": {},
   "outputs": [
    {
     "data": {
      "text/plain": [
       "[['D', 'M', 'S', 'Z', 'R', 'F', 'W', 'N'],\n",
       " ['W', 'P', 'Q', 'G', 'S'],\n",
       " ['W', 'R', 'V', 'Q', 'F', 'N', 'J', 'C'],\n",
       " ['F', 'Z', 'P', 'C', 'G', 'D', 'L'],\n",
       " ['T', 'P', 'S'],\n",
       " ['H', 'D', 'F', 'W', 'R', 'L'],\n",
       " ['Z', 'N', 'D', 'C'],\n",
       " ['W', 'N', 'R', 'F', 'V', 'S', 'J', 'Q'],\n",
       " ['R', 'M', 'S', 'G', 'Z', 'W', 'V']]"
      ]
     },
     "execution_count": 38,
     "metadata": {},
     "output_type": "execute_result"
    }
   ],
   "source": [
    "stacks = []\n",
    "for i in range(0, nof_stacks):\n",
    "    stacks.append([])\n",
    "stacks\n",
    "\n",
    "for line in stack_infos:\n",
    "#     print(line)\n",
    "    for i in range(0, nof_stacks):\n",
    "#         print('stack {}'.format(i))\n",
    "        crate = get_crate(line[i*4: (i*4)+3])\n",
    "#         print(crate)\n",
    "        if crate != ' ':\n",
    "            stacks[i].append(crate)\n",
    "\n",
    "for stack in stacks:\n",
    "    stack.reverse()\n",
    "            \n",
    "stacks"
   ]
  },
  {
   "cell_type": "code",
   "execution_count": 39,
   "metadata": {},
   "outputs": [],
   "source": [
    "import re\n",
    "\n",
    "pattern = 'move\\s*([0-9]*)\\sfrom\\s*([0-9]*)\\s*to\\s*([0-9]*)'\n",
    "for instruction in move_instructions:\n",
    "    match = re.search(pattern,instruction)\n",
    "    if match:\n",
    "        # print(match.groups())\n",
    "        how_many = int(match.group(1))\n",
    "        from_stack = int(match.group(2))\n",
    "        to_stack = int(match.group(3))\n",
    "        \n",
    "        stacks[to_stack-1] = stacks[to_stack-1] + stacks[from_stack-1][-how_many:]\n",
    "        stacks[from_stack-1] = stacks[from_stack-1][:-how_many]\n",
    "        # display(stacks)\n",
    "        \n",
    "    else:\n",
    "        raise Exception"
   ]
  },
  {
   "cell_type": "code",
   "execution_count": 40,
   "metadata": {},
   "outputs": [
    {
     "data": {
      "text/plain": [
       "'RNRGDNFQG'"
      ]
     },
     "execution_count": 40,
     "metadata": {},
     "output_type": "execute_result"
    }
   ],
   "source": [
    "solution = ''\n",
    "for stack in stacks:\n",
    "    solution = solution + stack[-1]\n",
    "solution"
   ]
  },
  {
   "cell_type": "markdown",
   "metadata": {},
   "source": [
    "# Day 6"
   ]
  },
  {
   "cell_type": "code",
   "execution_count": 41,
   "metadata": {},
   "outputs": [],
   "source": [
    "with open('input/input_day6.txt') as f:\n",
    "    lines = f.readlines()\n",
    "lines = [line.replace('\\n','') for line in lines]\n",
    "signal = lines[0]"
   ]
  },
  {
   "cell_type": "code",
   "execution_count": 42,
   "metadata": {},
   "outputs": [
    {
     "data": {
      "text/plain": [
       "False"
      ]
     },
     "execution_count": 42,
     "metadata": {},
     "output_type": "execute_result"
    }
   ],
   "source": [
    "def has_duplicate_letters(input_n_letters):\n",
    "    input_set = set([*input_n_letters])\n",
    "    return len(input_n_letters) != len(input_set)\n",
    "\n",
    "has_duplicate_letters('wgrv')"
   ]
  },
  {
   "cell_type": "code",
   "execution_count": 43,
   "metadata": {},
   "outputs": [
    {
     "name": "stdout",
     "output_type": "stream",
     "text": [
      "found: 1287\n"
     ]
    }
   ],
   "source": [
    "for i in range(len(signal)-4):\n",
    "    substring = signal[i:i+4]\n",
    "    # print(i+4,substring)\n",
    "    if not has_duplicate_letters(substring):\n",
    "        print('found: {}'.format(i+4))\n",
    "        break"
   ]
  },
  {
   "cell_type": "code",
   "execution_count": 44,
   "metadata": {},
   "outputs": [
    {
     "name": "stdout",
     "output_type": "stream",
     "text": [
      "found: 3716\n"
     ]
    }
   ],
   "source": [
    "substring_length = 14\n",
    "for i in range(len(signal)-substring_length):\n",
    "    substring = signal[i:i+substring_length]\n",
    "    # print(i+substring_length,substring)\n",
    "    if not has_duplicate_letters(substring):\n",
    "        print('found: {}'.format(i+substring_length))\n",
    "        break"
   ]
  },
  {
   "cell_type": "markdown",
   "metadata": {},
   "source": [
    "# Day 7"
   ]
  },
  {
   "cell_type": "code",
   "execution_count": 45,
   "metadata": {},
   "outputs": [],
   "source": [
    "with open('input/input_day7.txt') as f:\n",
    "    lines = f.readlines()\n",
    "lines = [line.replace('\\n','') for line in lines]"
   ]
  },
  {
   "cell_type": "code",
   "execution_count": 46,
   "metadata": {},
   "outputs": [
    {
     "data": {
      "text/plain": [
       "{'foo': Dir foo}"
      ]
     },
     "execution_count": 46,
     "metadata": {},
     "output_type": "execute_result"
    }
   ],
   "source": [
    "class File:\n",
    "\n",
    "    def __init__(self, name, size):\n",
    "        self.name = name\n",
    "        self.size = int(size)\n",
    "        \n",
    "    def __repr__(self):\n",
    "        return 'File {} ({})'.format(self.name, self.size)\n",
    "\n",
    "\n",
    "class Dir:\n",
    "    def __init__(self,name,parent = None):\n",
    "        self.name = name\n",
    "        self.files = dict()\n",
    "        self.subdirs = dict()\n",
    "        self.parent = parent\n",
    "        self.dir_size = 0\n",
    "    \n",
    "    def add_file(self, child):\n",
    "        self.files[child.name] = child\n",
    "\n",
    "    def add_subdir(self, child):\n",
    "        self.subdirs[child.name] = child\n",
    "\n",
    "    def __repr__(self):\n",
    "        return 'Dir {}'.format(self.name)\n",
    "\n",
    "    \n",
    "\n",
    "dir1 = Dir('/')\n",
    "file1 = File('bla',123)\n",
    "file2 = File('gurke',456)\n",
    "dir1.add_file(file1)\n",
    "dir1.add_file(file2)\n",
    "dir2 = Dir('foo')\n",
    "dir1.add_subdir(dir2)\n",
    "file3 = File('gurke2',4756)\n",
    "dir2.add_file(file3)\n",
    "\n",
    "dir1.subdirs\n"
   ]
  },
  {
   "cell_type": "code",
   "execution_count": 47,
   "metadata": {},
   "outputs": [
    {
     "name": "stdout",
     "output_type": "stream",
     "text": [
      "/ (0)\n",
      "  File bla (123)\n",
      "  File gurke (456)\n",
      "  foo (0)\n",
      "    File gurke2 (4756)\n"
     ]
    }
   ],
   "source": [
    "def show_tree(act_dir, indent):\n",
    "    print('{}{} ({})'.format(indent, act_dir.name, act_dir.dir_size))   \n",
    "    indent = indent + '  '\n",
    "    for file_name in act_dir.files.keys():\n",
    "        print('{}{}'.format(indent,act_dir.files[file_name]))\n",
    "    for dir_name in act_dir.subdirs.keys():\n",
    "        show_tree(act_dir.subdirs[dir_name], indent)\n",
    "\n",
    "show_tree(dir1,'')"
   ]
  },
  {
   "cell_type": "code",
   "execution_count": 48,
   "metadata": {},
   "outputs": [
    {
     "data": {
      "text/plain": [
       "File lsw.jgr (251030)"
      ]
     },
     "execution_count": 48,
     "metadata": {},
     "output_type": "execute_result"
    }
   ],
   "source": [
    "import re\n",
    "\n",
    "pattern = '([0-9]*)\\s([a-z\\.]*)'\n",
    "\n",
    "def get_file_from_line(line):\n",
    "    match = re.search(pattern, line)\n",
    "    size = match.group(1)\n",
    "    name = match.group(2)\n",
    "    # print('{},{}'.format(size, name))\n",
    "    return File(name, size)\n",
    "\n",
    "get_file_from_line('251030 lsw.jgr')"
   ]
  },
  {
   "cell_type": "code",
   "execution_count": 49,
   "metadata": {},
   "outputs": [],
   "source": [
    "root = Dir('/')\n",
    "act = root\n",
    "i = 1\n",
    "while i < len(lines):\n",
    "    line = lines[i]\n",
    "    if line.startswith('$'):\n",
    "        if line.startswith('$ cd'):\n",
    "            dirname = line[5:]\n",
    "            if dirname == '..':\n",
    "#                 print('go to parent dir')\n",
    "                act = act.parent\n",
    "            else :\n",
    "#                 print('Dir '+dirname)\n",
    "                act.add_subdir(Dir(dirname,act))\n",
    "#                 print('added dir {} {}'.format(act.name, act.files))\n",
    "                act = act.subdirs[dirname]\n",
    "#         if line.startswith('$ ls'):\n",
    "#             print('read files')\n",
    "    if len(line) > 0 and line[0].isdigit():\n",
    "        act.add_file(get_file_from_line(line))\n",
    "           \n",
    "    i = i +1\n",
    "    \n",
    "# print('***********')\n",
    "# show_tree(root,'')\n",
    "# print('***********')\n"
   ]
  },
  {
   "cell_type": "code",
   "execution_count": 50,
   "metadata": {},
   "outputs": [],
   "source": [
    "def calculate_dir_size(act_dir):\n",
    "    size = 0\n",
    "    for file_name in act_dir.files.keys():\n",
    "        size = size + act_dir.files[file_name].size\n",
    "    for dir_name in act_dir.subdirs.keys():\n",
    "        calculate_dir_size(act_dir.subdirs[dir_name])\n",
    "        size = size + act_dir.subdirs[dir_name].dir_size\n",
    "    act_dir.dir_size = size\n",
    "\n",
    "calculate_dir_size(root)\n",
    "    "
   ]
  },
  {
   "cell_type": "code",
   "execution_count": 51,
   "metadata": {},
   "outputs": [
    {
     "name": "stdout",
     "output_type": "stream",
     "text": [
      "***********\n",
      "/ (44965705)\n",
      "  File dngdnvv.qdf (199775)\n",
      "  File lbcgmm (23392)\n",
      "  File lsw.jgr (251030)\n",
      "  File nflgvsgz (305227)\n",
      "  File zqzlbvgl (202033)\n",
      "  bzgf (80802)\n",
      "    File htczftcn.bdr (80802)\n",
      "  fhhwv (8005232)\n",
      "    File bzmwfgf.wwp (274615)\n",
      "    File lbcgmm (220692)\n",
      "    File qtqpw.mhb (21309)\n",
      "    File vbvt (12989)\n",
      "    File vhnsp.dhg (46352)\n",
      "    bjml (4322676)\n",
      "      File bzmwfgf.wwp (307491)\n",
      "      File dngdnvv.qdf (164053)\n",
      "      File jbc.zgp (144223)\n",
      "      File mcqbcttc.mwr (274358)\n",
      "      File spbw.mnt (573)\n",
      "      cwghv (1030681)\n",
      "        File htczftcn (298079)\n",
      "        File nflgvsgz (33689)\n",
      "        File svfqpfm.bgs (287144)\n",
      "        File tzrz.hms (164244)\n",
      "        File zmm.ndc (52508)\n",
      "        tdgw (195017)\n",
      "          File htczftcn.cnl (195017)\n",
      "      pffdg (1255456)\n",
      "        File bbqh.wzf (64762)\n",
      "        File bhrw.jls (56148)\n",
      "        File htczftcn.lvs (28260)\n",
      "        File qtqpw.hsj (91675)\n",
      "        bgzdv (205543)\n",
      "          File srzlfd.hnq (205543)\n",
      "        hqwmfdj (503874)\n",
      "          File dzpgcrn.rbj (37910)\n",
      "          File mrrngcdr (290553)\n",
      "          File nflgvsgz.tsj (175411)\n",
      "        lzhz (199095)\n",
      "          File bbtdnpvf (73620)\n",
      "          jbc (125475)\n",
      "            File tzrz.hms (125475)\n",
      "        nbmsrl (106099)\n",
      "          File dngdnvv.qdf (106099)\n",
      "      vdd (136746)\n",
      "        File vlc.vcp (136746)\n",
      "      zzvs (1009095)\n",
      "        File dngdnvv.qdf (8406)\n",
      "        File qtqpw.lcc (55902)\n",
      "        File whjmbnm.ngd (269256)\n",
      "        nflgvsgz (126829)\n",
      "          mdgzvzbs (88913)\n",
      "            File ggvd (88913)\n",
      "          nlzc (37916)\n",
      "            File rww (37916)\n",
      "        vmbrt (548702)\n",
      "          File dwvbcvw.tmv (194547)\n",
      "          File htczftcn.bqh (54334)\n",
      "          File jnqgz (299821)\n",
      "    ddpf (178177)\n",
      "      plv (178177)\n",
      "        File dzsns (178177)\n",
      "    jngvpc (1033192)\n",
      "      File dcgmtcb (276675)\n",
      "      File htczftcn.dsr (108711)\n",
      "      File rqprcth.dhp (280837)\n",
      "      File tzrz.hms (84724)\n",
      "      jbc (282245)\n",
      "        File tzrz.hms (74153)\n",
      "        htczftcn (208092)\n",
      "          nflgvsgz (208092)\n",
      "            File nnrd.zrj (208092)\n",
      "    pffdg (264811)\n",
      "      File htczftcn (264811)\n",
      "    prwpzhb (1630419)\n",
      "      File fstwrdqp (181249)\n",
      "      File nflgvsgz (140710)\n",
      "      File qlqfc.qbm (103710)\n",
      "      File sqgmfl (15917)\n",
      "      File zls.tmj (171467)\n",
      "      jbc (12337)\n",
      "        File tzrz.hms (12337)\n",
      "      pffdg (677300)\n",
      "        File cshb.fbd (302369)\n",
      "        File htczftcn.vnn (251192)\n",
      "        msdtpqqd (42614)\n",
      "          File mptlnbp (42614)\n",
      "        sgtqmfgq (81125)\n",
      "          File jbc.szn (81125)\n",
      "      qtqpw (160846)\n",
      "        File dngdnvv.qdf (160846)\n",
      "      zhcs (166883)\n",
      "        File vtz.bvb (166883)\n",
      "  gzlpvdhd (74736)\n",
      "    ffvz (74736)\n",
      "      File jvb.ppb (74736)\n",
      "  htczftcn (33223068)\n",
      "    File gqjgvz (149343)\n",
      "    File lbcgmm (112647)\n",
      "    File mpdzgzm (192438)\n",
      "    File qtqpw.gdv (149952)\n",
      "    File rvdsldpf.zqc (134076)\n",
      "    dqbml (4340648)\n",
      "      File gglsqjbz.ffb (303757)\n",
      "      File pml.pmq (56134)\n",
      "      File tzrz.hms (108298)\n",
      "      File wqqdrml.wsl (201663)\n",
      "      bphwp (310977)\n",
      "        File dngdnvv.qdf (94931)\n",
      "        File jsgl (90517)\n",
      "        File pzl (118142)\n",
      "        File tzrz.hms (7387)\n",
      "      htczftcn (2461104)\n",
      "        File ctfgqld (300063)\n",
      "        File pffdg (125403)\n",
      "        File pffdg.zdg (25617)\n",
      "        htczftcn (79133)\n",
      "          zzpnff (79133)\n",
      "            File ssznrqlz.llw (79133)\n",
      "        jhldlsc (123071)\n",
      "          swcbqqd (123071)\n",
      "            File htczftcn.cjs (11202)\n",
      "            File htczftcn.nvb (111869)\n",
      "        nflgvsgz (1018557)\n",
      "          File bffzwn.gqj (37140)\n",
      "          File lpclj (233206)\n",
      "          File lpqh.ldp (79112)\n",
      "          File qtqpw (254611)\n",
      "          File tgbdwgn (206666)\n",
      "          glmvgr (115043)\n",
      "            File nflgvsgz.jgl (115043)\n",
      "          rmbwlbt (92779)\n",
      "            pffdg (92779)\n",
      "              File tzrz.hms (92779)\n",
      "        qddqn (268367)\n",
      "          jbc (268367)\n",
      "            File cdcs (268367)\n",
      "        tpmbzslr (520893)\n",
      "          dbfcp (23450)\n",
      "            File nflgvsgz.nsl (23450)\n",
      "          lgsdbjz (497443)\n",
      "            File cqzqzb.nfh (248980)\n",
      "            File tzrz.hms (248463)\n",
      "      hwm (485079)\n",
      "        File jbc.rvr (174410)\n",
      "        File tzrz.hms (310669)\n",
      "      rsv (413636)\n",
      "        rsdnfh (413636)\n",
      "          File dngdnvv.qdf (276060)\n",
      "          File zsznp.ccq (137576)\n",
      "    lbm (201564)\n",
      "      File pffdg.rpv (201564)\n",
      "    nflgvsgz (11915402)\n",
      "      jbc (4896203)\n",
      "        jbc (527302)\n",
      "          File hhdt (71570)\n",
      "          File qtqpw.tcg (27263)\n",
      "          ldzjsrm (428469)\n",
      "            File mlmwjq (217073)\n",
      "            File nflgvsgz (172121)\n",
      "            File pzrrlgt (39275)\n",
      "        mzt (130917)\n",
      "          File tzrz.hms (130917)\n",
      "        qzth (2714708)\n",
      "          File dngdnvv.qdf (280896)\n",
      "          File jbc.mtm (6736)\n",
      "          File nvzjz (293220)\n",
      "          File ppmr (88075)\n",
      "          nfsbdfv (1240147)\n",
      "            File bzmwfgf.wwp (58157)\n",
      "            File gmq.zvb (65369)\n",
      "            File tvs.csj (278485)\n",
      "            gmhbnffd (728509)\n",
      "              File lbcgmm (195493)\n",
      "              File mvqbqprp (264234)\n",
      "              File rtqts.zls (268782)\n",
      "            htczftcn (80056)\n",
      "              lnhjgl (80056)\n",
      "                File ffsrvl (80056)\n",
      "            qmc (29571)\n",
      "              File hqftnv.vwn (29571)\n",
      "          pffdg (805634)\n",
      "            File ppf (244334)\n",
      "            bfdmm (373731)\n",
      "              File nflgvsgz.bch (296551)\n",
      "              File tzrz.hms (77180)\n",
      "            rggmf (187569)\n",
      "              File dngdnvv.qdf (187569)\n",
      "        scwdmwj (1523276)\n",
      "          File gztswt.cvn (191201)\n",
      "          File qtqpw.hfv (55401)\n",
      "          fhwnjp (200583)\n",
      "            File tqrqsmwt (200583)\n",
      "          jsbdjv (203120)\n",
      "            File fgjhsb.szs (46882)\n",
      "            File qtqpw.ctw (156238)\n",
      "          nflgvsgz (510061)\n",
      "            File nrfchlbs.wlw (216012)\n",
      "            File qtqpw (75316)\n",
      "            File vzldr (218733)\n",
      "          pffdg (362910)\n",
      "            File htczftcn.trw (75020)\n",
      "            File snnvrrwb.qmm (6370)\n",
      "            File vwstfbzg.jgq (281520)\n",
      "      svmmm (5883165)\n",
      "        File czchmpc (22016)\n",
      "        File dngdnvv.qdf (294397)\n",
      "        File gdhtprt (14175)\n",
      "        File smqdrdjs (138882)\n",
      "        File vqjztp.zlr (174171)\n",
      "        bgh (381755)\n",
      "          File fhsfhhjn (172183)\n",
      "          File phpdrzm (209572)\n",
      "        nclpsp (2347569)\n",
      "          File bzmwfgf.wwp (41222)\n",
      "          File dqbqvg (134164)\n",
      "          File htczftcn.cjp (210868)\n",
      "          File lfrdq.wrm (185752)\n",
      "          File rljlr.lfs (235340)\n",
      "          dqtgwjn (389353)\n",
      "            File tpl.qgw (118196)\n",
      "            File wbjmdmjm (83985)\n",
      "            lbft (187172)\n",
      "              File vrd (187172)\n",
      "          htczftcn (481208)\n",
      "            File hzlf (210604)\n",
      "            File nflgvsgz (154916)\n",
      "            File pffdg.ptz (115688)\n",
      "          jbc (356848)\n",
      "            File bzmwfgf.wwp (122033)\n",
      "            File dngdnvv.qdf (105912)\n",
      "            File nflgvsgz (16049)\n",
      "            File slmwmtfn (43497)\n",
      "            File tcsc.fgf (69357)\n",
      "          pwvbnc (10200)\n",
      "            File pfvsnqp.fwr (10200)\n",
      "          qhrtrsvm (302614)\n",
      "            File djmhdr.vcc (193675)\n",
      "            File qtqpw (108939)\n",
      "        pffdg (127568)\n",
      "          dbtmdvq (127568)\n",
      "            File vhnqsm.ghq (127568)\n",
      "        qtqpw (223658)\n",
      "          crpzfdn (223658)\n",
      "            File lpzrl.qvj (135177)\n",
      "            qtldnjtd (88481)\n",
      "              File rlbzbjt.rrz (88481)\n",
      "        rwhq (2158974)\n",
      "          File bzmwfgf.wwp (87944)\n",
      "          File dngdnvv.qdf (70798)\n",
      "          hgqbmgch (1507352)\n",
      "            File bzmwfgf.wwp (293841)\n",
      "            File lwpf (286937)\n",
      "            File vmpqmzf.dnf (103844)\n",
      "            smfbjhw (244396)\n",
      "              File crgrnf.dns (186167)\n",
      "              htczftcn (58229)\n",
      "                File gssn.rlt (11324)\n",
      "                File tzrz.hms (46905)\n",
      "            smqh (578334)\n",
      "              pffdg (6905)\n",
      "                File bzmwfgf.wwp (3570)\n",
      "                File fvpd.bct (3335)\n",
      "              zbg (571429)\n",
      "                File bzmwfgf.wwp (108877)\n",
      "                File drhsdtcv.rrw (310302)\n",
      "                File wfvvsg (152250)\n",
      "          lrvncpvz (206419)\n",
      "            File nflgvsgz.tvr (206419)\n",
      "          nflgvsgz (286461)\n",
      "            File tzrz.hms (286461)\n",
      "      zfjdnbs (1136034)\n",
      "        htczftcn (213244)\n",
      "          jznspqtr (86738)\n",
      "            File hqftnv.vwn (86738)\n",
      "          tpz (126506)\n",
      "            File nflgvsgz.qnh (126506)\n",
      "        nflgvsgz (248446)\n",
      "          File gwjgdb.vrr (248446)\n",
      "        scvzpf (674344)\n",
      "          File gbpql (173634)\n",
      "          File jzncpqb.pgc (141796)\n",
      "          File rpvnchs (69394)\n",
      "          File tzrz.hms (65500)\n",
      "          fpbbjmjf (224020)\n",
      "            File hhrjc (224020)\n",
      "    pffdg (2703716)\n",
      "      File clwdmcz.thc (101444)\n",
      "      File dngdnvv.qdf (58211)\n",
      "      File nflgvsgz (153413)\n",
      "      File rrfs.ffn (141829)\n",
      "      mnj (298654)\n",
      "        File qtqpw (298654)\n",
      "      ncwh (1778795)\n",
      "        File bmthlszz.mtr (133042)\n",
      "        File wqhnfz (201720)\n",
      "        nflgvsgz (690044)\n",
      "          File hsljpqpf (115991)\n",
      "          bqqmlffw (49001)\n",
      "            File wltpcszs.bvj (49001)\n",
      "          htczftcn (525052)\n",
      "            File sfdssh.dnj (264620)\n",
      "            File vgvzjl (260432)\n",
      "        nrsqtdz (753989)\n",
      "          File htczftcn (258978)\n",
      "          File pffdg.blw (28767)\n",
      "          File tzrz.hms (172773)\n",
      "          jbc (74744)\n",
      "            ztphfs (74744)\n",
      "              gpps (74744)\n",
      "                File bzmwfgf.wwp (74744)\n",
      "          nsqlmlqp (218727)\n",
      "            zvwvdzlv (218727)\n",
      "              File hsjm.qgm (218727)\n",
      "      qtqpw (171370)\n",
      "        File sdmhwctq.gzr (171370)\n",
      "    qtqpw (1925618)\n",
      "      File jbc.ppb (131580)\n",
      "      File jbc.sbm (126635)\n",
      "      File pbjd (302398)\n",
      "      File vnpj (74429)\n",
      "      csqvzqdc (689179)\n",
      "        File jbc.grw (150923)\n",
      "        File pffdg.qbt (240950)\n",
      "        lthhrqnn (140740)\n",
      "          File czl (123194)\n",
      "          File pffdg (17546)\n",
      "        rgzqq (156566)\n",
      "          File jbc.hpw (156566)\n",
      "      zhmp (601397)\n",
      "        File dngdnvv.qdf (291659)\n",
      "        File nflgvsgz.wmc (309738)\n",
      "    rcnwghg (417086)\n",
      "      File hvhlggsn (108285)\n",
      "      File sgstjfqq.hln (308801)\n",
      "    sglgqlp (4497350)\n",
      "      gnvnlrz (3787648)\n",
      "        File lgqrm (62071)\n",
      "        pvt (619586)\n",
      "          fpfddfw (257231)\n",
      "            File rgccj.dwc (257231)\n",
      "          jbc (118252)\n",
      "            File dsvsmgm.hdm (118252)\n",
      "          jzrb (244103)\n",
      "            File gcrfg.svt (157243)\n",
      "            File pblts.jtd (86860)\n",
      "        srdqwtcs (3105991)\n",
      "          File bzzghfpq.gmh (267482)\n",
      "          File hhdmlslr (288249)\n",
      "          File lwmhd (286213)\n",
      "          File vbm.rbp (121131)\n",
      "          cbd (485141)\n",
      "            File jpbzwvd.rrw (238535)\n",
      "            File wgl.gfg (246606)\n",
      "          gwqzndrt (1344607)\n",
      "            File vcmv.qcs (262912)\n",
      "            twtpbh (1081695)\n",
      "              File dngdnvv.qdf (245819)\n",
      "              File ghrnmd (295823)\n",
      "              File pffdg.ptr (308384)\n",
      "              File sqhnt.grn (231669)\n",
      "          rfvmgch (313168)\n",
      "            File cwr.jsm (306719)\n",
      "            File hqftnv.vwn (6449)\n",
      "      nchq (550303)\n",
      "        File qtqpw (137003)\n",
      "        File zrgvq (267253)\n",
      "        File zww.nrr (146047)\n",
      "      nlrbnwp (91151)\n",
      "        File tzrz.hms (91151)\n",
      "      zpg (68248)\n",
      "        File bzmwfgf.wwp (68248)\n",
      "    wrfmf (6483228)\n",
      "      File dsctg (16673)\n",
      "      File jbc (304187)\n",
      "      File tzrz.hms (306410)\n",
      "      cdlwfjhp (361355)\n",
      "        clshzcrc (191491)\n",
      "          File tzrz.hms (191491)\n",
      "        lplgpg (169864)\n",
      "          File cmhrmh.pjp (169864)\n",
      "      lchrdvm (1981738)\n",
      "        File chwbr.spd (149068)\n",
      "        File hqftnv.vwn (250029)\n",
      "        File jbc (23399)\n",
      "        File nflgvsgz.nmp (69746)\n",
      "        File zhf.qtz (251416)\n",
      "        pldctfcf (1145240)\n",
      "          File bcpwcn (297722)\n",
      "          File cspls (276738)\n",
      "          File htczftcn (80690)\n",
      "          File qfjs.gps (97610)\n",
      "          File tzrz.hms (106070)\n",
      "          gghvnc (93770)\n",
      "            File dngdnvv.qdf (93770)\n",
      "          pffdg (180916)\n",
      "            File bzmwfgf.wwp (180916)\n",
      "          tvc (11724)\n",
      "            File gtgzwsq (11724)\n",
      "        vngv (92840)\n",
      "          File qtqpw.gcl (92840)\n",
      "      nflgvsgz (2780699)\n",
      "        File lfn.rmz (54961)\n",
      "        htczftcn (799039)\n",
      "          File rzm (292374)\n",
      "          gflz (258037)\n",
      "            qpdn (258037)\n",
      "              File ddqb.jhd (258037)\n",
      "          mpp (248628)\n",
      "            File pffdg.spt (248628)\n",
      "        lcjqzrwm (641148)\n",
      "          File mbz.gsq (249155)\n",
      "          File nngm.nft (291857)\n",
      "          File zwvwlg.hrs (100136)\n",
      "        plvbmb (481758)\n",
      "          File pffdg (163552)\n",
      "          nnrnwp (318206)\n",
      "            File bzmwfgf.wwp (289041)\n",
      "            File nvcwzfpr (29165)\n",
      "        vdfwfg (803793)\n",
      "          File hqftnv.vwn (264391)\n",
      "          File htczftcn.mrd (309071)\n",
      "          wtqrrvvr (230331)\n",
      "            File swhpd (230331)\n",
      "      qtqpw (292434)\n",
      "        File hbjlsrw (292434)\n",
      "      rgdc (188809)\n",
      "        hqldlpg (188809)\n",
      "          File rvjwsmnz.hqt (188809)\n",
      "      zqzzg (250923)\n",
      "        File qtqpw.zrb (250923)\n",
      "  qcqg (309875)\n",
      "    File tzrz.hms (309875)\n",
      "  qtqpw (178388)\n",
      "    rcnp (178388)\n",
      "      File bzmwfgf.wwp (131725)\n",
      "      File chwfd (46663)\n",
      "  qzcdscbp (287928)\n",
      "    mtqt (287928)\n",
      "      File llbt.pth (27367)\n",
      "      mcrddwgp (260561)\n",
      "        File bzmwfgf.wwp (77221)\n",
      "        File lrwlhz (37941)\n",
      "        File tzrz.hms (85568)\n",
      "        tcmrv (59831)\n",
      "          hprvr (59831)\n",
      "            File qbchdjw.gjg (59831)\n",
      "  rfgvg (142825)\n",
      "    qlg (142825)\n",
      "      File dngdnvv.qdf (142825)\n",
      "  rzb (1681394)\n",
      "    File dngdnvv.qdf (250575)\n",
      "    File plblzt.zzz (187509)\n",
      "    File rrrqcl.pvt (237529)\n",
      "    jbc (253304)\n",
      "      File lpdndfn (253304)\n",
      "    lbg (106624)\n",
      "      fml (106624)\n",
      "        File shm.fgh (106624)\n",
      "    qwjlvqdp (543964)\n",
      "      htczftcn (543964)\n",
      "        File jbc.ldg (272143)\n",
      "        gnnzlzwd (218355)\n",
      "          File tzrz.hms (218355)\n",
      "        sztdtpjt (53466)\n",
      "          File tzrz.hms (53466)\n",
      "    rsjg (101889)\n",
      "      File cct.sfg (101889)\n",
      "***********\n"
     ]
    }
   ],
   "source": [
    "print('***********')\n",
    "show_tree(root,'')\n",
    "print('***********')\n"
   ]
  },
  {
   "cell_type": "code",
   "execution_count": 52,
   "metadata": {},
   "outputs": [],
   "source": [
    "filtered_dirs = []\n",
    "\n",
    "def get_small_dirs(act_dir):\n",
    "    if act_dir.dir_size <= 100000:\n",
    "        filtered_dirs.append(act_dir)\n",
    "    for dir_name in act_dir.subdirs.keys():\n",
    "        get_small_dirs(act_dir.subdirs[dir_name])\n"
   ]
  },
  {
   "cell_type": "code",
   "execution_count": 53,
   "metadata": {},
   "outputs": [
    {
     "data": {
      "text/plain": [
       "[Dir bzgf,\n",
       " Dir mdgzvzbs,\n",
       " Dir nlzc,\n",
       " Dir jbc,\n",
       " Dir msdtpqqd,\n",
       " Dir sgtqmfgq,\n",
       " Dir gzlpvdhd,\n",
       " Dir ffvz,\n",
       " Dir htczftcn,\n",
       " Dir zzpnff,\n",
       " Dir rmbwlbt,\n",
       " Dir pffdg,\n",
       " Dir dbfcp,\n",
       " Dir htczftcn,\n",
       " Dir lnhjgl,\n",
       " Dir qmc,\n",
       " Dir pwvbnc,\n",
       " Dir qtldnjtd,\n",
       " Dir htczftcn,\n",
       " Dir pffdg,\n",
       " Dir jznspqtr,\n",
       " Dir bqqmlffw,\n",
       " Dir jbc,\n",
       " Dir ztphfs,\n",
       " Dir gpps,\n",
       " Dir nlrbnwp,\n",
       " Dir zpg,\n",
       " Dir gghvnc,\n",
       " Dir tvc,\n",
       " Dir vngv,\n",
       " Dir tcmrv,\n",
       " Dir hprvr,\n",
       " Dir sztdtpjt]"
      ]
     },
     "execution_count": 53,
     "metadata": {},
     "output_type": "execute_result"
    }
   ],
   "source": [
    "get_small_dirs(root)\n",
    "filtered_dirs"
   ]
  },
  {
   "cell_type": "code",
   "execution_count": 54,
   "metadata": {},
   "outputs": [
    {
     "data": {
      "text/plain": [
       "2104783"
      ]
     },
     "execution_count": 54,
     "metadata": {},
     "output_type": "execute_result"
    }
   ],
   "source": [
    "sum([act_dir.dir_size for act_dir in filtered_dirs])"
   ]
  },
  {
   "cell_type": "code",
   "execution_count": 55,
   "metadata": {},
   "outputs": [
    {
     "data": {
      "text/plain": [
       "4965705"
      ]
     },
     "execution_count": 55,
     "metadata": {},
     "output_type": "execute_result"
    }
   ],
   "source": [
    "total_size = 70000000\n",
    "used_space = root.dir_size\n",
    "\n",
    "free_space = total_size - used_space\n",
    "free_space\n",
    "\n",
    "minimum_space_needed = 30000000\n",
    "\n",
    "to_be_erased = minimum_space_needed - free_space\n",
    "to_be_erased"
   ]
  },
  {
   "cell_type": "code",
   "execution_count": 56,
   "metadata": {},
   "outputs": [],
   "source": [
    "actual_candidate = root\n",
    "\n",
    "def check_dirs(act_dir):\n",
    "    \n",
    "    global actual_candidate\n",
    "    \n",
    "    if act_dir.dir_size >= to_be_erased:\n",
    "        if act_dir.dir_size < actual_candidate.dir_size:\n",
    "            actual_candidate = act_dir\n",
    "    for dir_name in act_dir.subdirs.keys():\n",
    "        check_dirs(act_dir.subdirs[dir_name])\n",
    "\n",
    "check_dirs(root)"
   ]
  },
  {
   "cell_type": "code",
   "execution_count": 57,
   "metadata": {},
   "outputs": [
    {
     "data": {
      "text/plain": [
       "5883165"
      ]
     },
     "execution_count": 57,
     "metadata": {},
     "output_type": "execute_result"
    }
   ],
   "source": [
    "actual_candidate.dir_size"
   ]
  },
  {
   "cell_type": "code",
   "execution_count": null,
   "metadata": {},
   "outputs": [],
   "source": []
  }
 ],
 "metadata": {
  "kernelspec": {
   "display_name": "Python 3",
   "language": "python",
   "name": "python3"
  },
  "language_info": {
   "codemirror_mode": {
    "name": "ipython",
    "version": 3
   },
   "file_extension": ".py",
   "mimetype": "text/x-python",
   "name": "python",
   "nbconvert_exporter": "python",
   "pygments_lexer": "ipython3",
   "version": "3.7.9"
  },
  "varInspector": {
   "cols": {
    "lenName": 16,
    "lenType": 16,
    "lenVar": 40
   },
   "kernels_config": {
    "python": {
     "delete_cmd_postfix": "",
     "delete_cmd_prefix": "del ",
     "library": "var_list.py",
     "varRefreshCmd": "print(var_dic_list())"
    },
    "r": {
     "delete_cmd_postfix": ") ",
     "delete_cmd_prefix": "rm(",
     "library": "var_list.r",
     "varRefreshCmd": "cat(var_dic_list()) "
    }
   },
   "types_to_exclude": [
    "module",
    "function",
    "builtin_function_or_method",
    "instance",
    "_Feature"
   ],
   "window_display": false
  },
  "vscode": {
   "interpreter": {
    "hash": "397704579725e15f5c7cb49fe5f0341eb7531c82d19f2c29d197e8b64ab5776b"
   }
  }
 },
 "nbformat": 4,
 "nbformat_minor": 2
}
