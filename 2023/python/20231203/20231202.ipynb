{
 "cells": [
  {
   "cell_type": "code",
   "execution_count": 1,
   "metadata": {},
   "outputs": [],
   "source": [
    "import pandas as pd\n",
    "import math\n",
    "import numpy as np"
   ]
  },
  {
   "cell_type": "code",
   "execution_count": 2,
   "metadata": {},
   "outputs": [],
   "source": [
    "#input = 'test_input1.txt'\n",
    "#input = 'test_input1_1.txt'\n",
    "input = 'input.txt'"
   ]
  },
  {
   "cell_type": "code",
   "execution_count": 3,
   "metadata": {},
   "outputs": [],
   "source": [
    "def get_max_nof_cols(lines):\n",
    "    max_cols = 0\n",
    "    for line in lines:\n",
    "        if len(line) > max_cols:\n",
    "            max_cols = len(line)\n",
    "    return max_cols"
   ]
  },
  {
   "cell_type": "code",
   "execution_count": 4,
   "metadata": {},
   "outputs": [],
   "source": [
    "class ElfNumber:\n",
    "  def __init__(self, first_pos, value):\n",
    "    self.first_pos_row = first_pos[0]\n",
    "    self.first_pos_col = first_pos[1]\n",
    "    self.value = value\n",
    "\n",
    "  def __str__(self):\n",
    "    return f\"ElfNumber: pos: ({self.first_pos_row},{self.first_pos_col}): {self.value}\"\n",
    "  \n",
    "  def addValue(self, new_value):\n",
    "    self.value = self.value * 10 + new_value\n",
    "  \n",
    "  def get_adjacent_positions(self):\n",
    "    nof_places = math.floor(math.log10(self.value))\n",
    "    adj = []\n",
    "    # row above\n",
    "    row_above = self.first_pos_row-1\n",
    "    adj.append((row_above, self.first_pos_col-1))\n",
    "    for i in range(0,nof_places+2):\n",
    "      # add one too much\n",
    "      adj.append((row_above, self.first_pos_col+i))\n",
    "    # row itself\n",
    "    adj.append((self.first_pos_row, self.first_pos_col-1))\n",
    "    adj.append((self.first_pos_row, self.first_pos_col+nof_places+1))\n",
    "    # row below\n",
    "    row_below = self.first_pos_row+1\n",
    "    adj.append((row_below, self.first_pos_col-1))\n",
    "    for i in range(0,nof_places+2):\n",
    "      # add one too much\n",
    "      adj.append((row_below, self.first_pos_col+i))\n",
    "    return adj\n",
    "  \n",
    "  def __repr__(self):\n",
    "    return self.__str__()\n",
    "\n"
   ]
  },
  {
   "cell_type": "code",
   "execution_count": 5,
   "metadata": {},
   "outputs": [],
   "source": [
    "def parse_line(row_num, row, playground,numbers):\n",
    "    act_num = None\n",
    "    for col, c in enumerate(row):\n",
    "        if c.isdigit():\n",
    "            if act_num == None:\n",
    "                act_num = ElfNumber((row_num, col+1), int(c))\n",
    "            else:\n",
    "                act_num.addValue(int(c))\n",
    "        else:\n",
    "            if act_num != None:\n",
    "                numbers.append(act_num)\n",
    "                act_num = None\n",
    "            if c != '.':\n",
    "                playground[row_num, col+1] = 1\n",
    "    if act_num != None:\n",
    "        numbers.append(act_num)\n"
   ]
  },
  {
   "cell_type": "code",
   "execution_count": 6,
   "metadata": {},
   "outputs": [
    {
     "name": "stdout",
     "output_type": "stream",
     "text": [
      "[[0. 0. 0. ... 0. 0. 0.]\n",
      " [0. 0. 0. ... 0. 0. 0.]\n",
      " [0. 0. 0. ... 0. 0. 0.]\n",
      " ...\n",
      " [0. 0. 0. ... 0. 0. 0.]\n",
      " [0. 0. 0. ... 0. 0. 0.]\n",
      " [0. 0. 0. ... 0. 0. 0.]]\n",
      "[ElfNumber: pos: (1,14): 65, ElfNumber: pos: (1,34): 998, ElfNumber: pos: (1,46): 453, ElfNumber: pos: (1,84): 845, ElfNumber: pos: (1,89): 773, ElfNumber: pos: (1,117): 307, ElfNumber: pos: (1,124): 527, ElfNumber: pos: (1,138): 541, ElfNumber: pos: (2,24): 125, ElfNumber: pos: (2,38): 331, ElfNumber: pos: (2,69): 30, ElfNumber: pos: (2,72): 76, ElfNumber: pos: (2,93): 861, ElfNumber: pos: (2,113): 298, ElfNumber: pos: (2,133): 700, ElfNumber: pos: (3,17): 942, ElfNumber: pos: (3,31): 874, ElfNumber: pos: (3,44): 407, ElfNumber: pos: (3,50): 558, ElfNumber: pos: (3,65): 752, ElfNumber: pos: (3,75): 196, ElfNumber: pos: (3,79): 274, ElfNumber: pos: (3,83): 240, ElfNumber: pos: (3,87): 345, ElfNumber: pos: (3,102): 105, ElfNumber: pos: (3,124): 164, ElfNumber: pos: (3,138): 466, ElfNumber: pos: (4,24): 593, ElfNumber: pos: (4,38): 516, ElfNumber: pos: (4,69): 74, ElfNumber: pos: (4,92): 377, ElfNumber: pos: (4,97): 157, ElfNumber: pos: (4,116): 128, ElfNumber: pos: (4,130): 175, ElfNumber: pos: (5,5): 314, ElfNumber: pos: (5,9): 750, ElfNumber: pos: (5,34): 497, ElfNumber: pos: (5,48): 258, ElfNumber: pos: (5,56): 549, ElfNumber: pos: (5,62): 70, ElfNumber: pos: (5,74): 745, ElfNumber: pos: (5,82): 289, ElfNumber: pos: (5,86): 418, ElfNumber: pos: (5,106): 351, ElfNumber: pos: (5,134): 839, ElfNumber: pos: (6,19): 786, ElfNumber: pos: (6,28): 283, ElfNumber: pos: (6,38): 366, ElfNumber: pos: (6,67): 899, ElfNumber: pos: (6,98): 652, ElfNumber: pos: (6,112): 219, ElfNumber: pos: (7,9): 468, ElfNumber: pos: (7,15): 249, ElfNumber: pos: (7,55): 866, ElfNumber: pos: (7,59): 797, ElfNumber: pos: (7,63): 960, ElfNumber: pos: (7,76): 234, ElfNumber: pos: (7,86): 252, ElfNumber: pos: (7,91): 686, ElfNumber: pos: (8,3): 386, ElfNumber: pos: (8,19): 582, ElfNumber: pos: (8,26): 681, ElfNumber: pos: (8,32): 52, ElfNumber: pos: (8,39): 369, ElfNumber: pos: (8,51): 969, ElfNumber: pos: (8,81): 276, ElfNumber: pos: (8,110): 873, ElfNumber: pos: (8,118): 824, ElfNumber: pos: (8,129): 627, ElfNumber: pos: (8,134): 51, ElfNumber: pos: (8,138): 25, ElfNumber: pos: (9,13): 835, ElfNumber: pos: (9,44): 101, ElfNumber: pos: (9,62): 444, ElfNumber: pos: (9,76): 587, ElfNumber: pos: (9,85): 33, ElfNumber: pos: (9,91): 847, ElfNumber: pos: (10,20): 513, ElfNumber: pos: (10,24): 45, ElfNumber: pos: (10,27): 125, ElfNumber: pos: (10,52): 883, ElfNumber: pos: (10,80): 988, ElfNumber: pos: (10,98): 962, ElfNumber: pos: (10,103): 595, ElfNumber: pos: (10,132): 674, ElfNumber: pos: (10,136): 534, ElfNumber: pos: (11,9): 180, ElfNumber: pos: (11,37): 891, ElfNumber: pos: (11,41): 129, ElfNumber: pos: (11,46): 957, ElfNumber: pos: (11,62): 584, ElfNumber: pos: (11,87): 291, ElfNumber: pos: (11,91): 59, ElfNumber: pos: (11,95): 71, ElfNumber: pos: (11,124): 707, ElfNumber: pos: (11,128): 646, ElfNumber: pos: (12,21): 530, ElfNumber: pos: (12,53): 610, ElfNumber: pos: (12,58): 790, ElfNumber: pos: (12,69): 314, ElfNumber: pos: (12,80): 991, ElfNumber: pos: (12,101): 231, ElfNumber: pos: (12,105): 926, ElfNumber: pos: (12,112): 29, ElfNumber: pos: (12,116): 870, ElfNumber: pos: (12,120): 264, ElfNumber: pos: (13,7): 132, ElfNumber: pos: (13,45): 93, ElfNumber: pos: (13,76): 537, ElfNumber: pos: (13,84): 139, ElfNumber: pos: (13,97): 70, ElfNumber: pos: (13,136): 131, ElfNumber: pos: (14,4): 36, ElfNumber: pos: (14,15): 514, ElfNumber: pos: (14,26): 99, ElfNumber: pos: (14,30): 684, ElfNumber: pos: (14,40): 21, ElfNumber: pos: (14,51): 852, ElfNumber: pos: (14,55): 886, ElfNumber: pos: (14,64): 191, ElfNumber: pos: (14,72): 892, ElfNumber: pos: (14,91): 456, ElfNumber: pos: (14,102): 172, ElfNumber: pos: (15,10): 508, ElfNumber: pos: (15,36): 615, ElfNumber: pos: (15,60): 964, ElfNumber: pos: (15,87): 627, ElfNumber: pos: (15,106): 242, ElfNumber: pos: (15,110): 945, ElfNumber: pos: (15,123): 457, ElfNumber: pos: (15,131): 512, ElfNumber: pos: (15,136): 880, ElfNumber: pos: (16,6): 211, ElfNumber: pos: (16,22): 430, ElfNumber: pos: (16,55): 702, ElfNumber: pos: (16,67): 243, ElfNumber: pos: (16,72): 747, ElfNumber: pos: (16,82): 506, ElfNumber: pos: (16,101): 24, ElfNumber: pos: (16,127): 873, ElfNumber: pos: (17,26): 988, ElfNumber: pos: (17,31): 570, ElfNumber: pos: (17,45): 72, ElfNumber: pos: (17,51): 726, ElfNumber: pos: (17,87): 340, ElfNumber: pos: (17,104): 555, ElfNumber: pos: (17,111): 526, ElfNumber: pos: (18,21): 928, ElfNumber: pos: (18,39): 785, ElfNumber: pos: (18,56): 971, ElfNumber: pos: (18,61): 585, ElfNumber: pos: (18,99): 860, ElfNumber: pos: (18,121): 628, ElfNumber: pos: (18,134): 952, ElfNumber: pos: (19,3): 165, ElfNumber: pos: (19,8): 541, ElfNumber: pos: (19,33): 822, ElfNumber: pos: (19,44): 930, ElfNumber: pos: (19,74): 737, ElfNumber: pos: (19,95): 940, ElfNumber: pos: (19,113): 561, ElfNumber: pos: (19,129): 685, ElfNumber: pos: (20,17): 248, ElfNumber: pos: (20,26): 40, ElfNumber: pos: (20,48): 521, ElfNumber: pos: (20,55): 897, ElfNumber: pos: (20,70): 698, ElfNumber: pos: (20,106): 558, ElfNumber: pos: (20,124): 52, ElfNumber: pos: (21,23): 19, ElfNumber: pos: (21,39): 674, ElfNumber: pos: (21,63): 110, ElfNumber: pos: (21,92): 296, ElfNumber: pos: (21,120): 78, ElfNumber: pos: (21,132): 495, ElfNumber: pos: (22,17): 753, ElfNumber: pos: (22,67): 199, ElfNumber: pos: (22,76): 353, ElfNumber: pos: (22,80): 604, ElfNumber: pos: (22,88): 737, ElfNumber: pos: (22,98): 483, ElfNumber: pos: (22,102): 366, ElfNumber: pos: (22,109): 242, ElfNumber: pos: (22,116): 720, ElfNumber: pos: (23,4): 407, ElfNumber: pos: (23,11): 973, ElfNumber: pos: (23,30): 352, ElfNumber: pos: (23,42): 397, ElfNumber: pos: (23,57): 144, ElfNumber: pos: (23,92): 799, ElfNumber: pos: (23,123): 845, ElfNumber: pos: (23,133): 539, ElfNumber: pos: (24,48): 643, ElfNumber: pos: (24,63): 443, ElfNumber: pos: (24,68): 726, ElfNumber: pos: (24,83): 939, ElfNumber: pos: (24,88): 439, ElfNumber: pos: (24,102): 478, ElfNumber: pos: (25,4): 165, ElfNumber: pos: (25,16): 3, ElfNumber: pos: (25,21): 599, ElfNumber: pos: (25,25): 943, ElfNumber: pos: (25,30): 840, ElfNumber: pos: (25,35): 424, ElfNumber: pos: (25,40): 268, ElfNumber: pos: (25,44): 389, ElfNumber: pos: (25,72): 83, ElfNumber: pos: (25,75): 827, ElfNumber: pos: (25,79): 318, ElfNumber: pos: (25,94): 135, ElfNumber: pos: (25,98): 55, ElfNumber: pos: (25,108): 924, ElfNumber: pos: (25,113): 535, ElfNumber: pos: (26,8): 163, ElfNumber: pos: (26,49): 688, ElfNumber: pos: (26,59): 529, ElfNumber: pos: (26,87): 858, ElfNumber: pos: (26,102): 137, ElfNumber: pos: (26,117): 681, ElfNumber: pos: (26,121): 347, ElfNumber: pos: (26,127): 187, ElfNumber: pos: (27,4): 541, ElfNumber: pos: (27,13): 299, ElfNumber: pos: (27,17): 340, ElfNumber: pos: (27,29): 645, ElfNumber: pos: (27,33): 492, ElfNumber: pos: (27,76): 830, ElfNumber: pos: (27,97): 897, ElfNumber: pos: (27,109): 782, ElfNumber: pos: (27,132): 352, ElfNumber: pos: (28,9): 740, ElfNumber: pos: (28,22): 549, ElfNumber: pos: (28,39): 500, ElfNumber: pos: (28,48): 899, ElfNumber: pos: (28,57): 671, ElfNumber: pos: (28,62): 807, ElfNumber: pos: (28,70): 334, ElfNumber: pos: (28,80): 313, ElfNumber: pos: (28,86): 26, ElfNumber: pos: (28,101): 366, ElfNumber: pos: (28,105): 701, ElfNumber: pos: (28,121): 330, ElfNumber: pos: (29,5): 125, ElfNumber: pos: (29,29): 928, ElfNumber: pos: (29,44): 243, ElfNumber: pos: (29,66): 225, ElfNumber: pos: (29,75): 182, ElfNumber: pos: (29,130): 346, ElfNumber: pos: (30,12): 814, ElfNumber: pos: (30,16): 665, ElfNumber: pos: (30,35): 573, ElfNumber: pos: (30,59): 69, ElfNumber: pos: (30,79): 484, ElfNumber: pos: (30,103): 64, ElfNumber: pos: (30,114): 910, ElfNumber: pos: (30,126): 273, ElfNumber: pos: (30,134): 450, ElfNumber: pos: (31,28): 383, ElfNumber: pos: (31,40): 433, ElfNumber: pos: (31,73): 22, ElfNumber: pos: (31,86): 62, ElfNumber: pos: (31,91): 569, ElfNumber: pos: (31,98): 396, ElfNumber: pos: (31,109): 736, ElfNumber: pos: (31,118): 708, ElfNumber: pos: (32,2): 383, ElfNumber: pos: (32,14): 774, ElfNumber: pos: (32,61): 265, ElfNumber: pos: (32,77): 812, ElfNumber: pos: (32,102): 305, ElfNumber: pos: (32,130): 657, ElfNumber: pos: (33,6): 467, ElfNumber: pos: (33,10): 392, ElfNumber: pos: (33,20): 936, ElfNumber: pos: (33,26): 806, ElfNumber: pos: (33,36): 373, ElfNumber: pos: (33,42): 929, ElfNumber: pos: (33,48): 463, ElfNumber: pos: (33,55): 484, ElfNumber: pos: (33,71): 337, ElfNumber: pos: (33,82): 415, ElfNumber: pos: (33,87): 465, ElfNumber: pos: (33,106): 154, ElfNumber: pos: (33,111): 326, ElfNumber: pos: (34,60): 517, ElfNumber: pos: (34,64): 24, ElfNumber: pos: (34,91): 297, ElfNumber: pos: (35,11): 599, ElfNumber: pos: (35,16): 820, ElfNumber: pos: (35,24): 342, ElfNumber: pos: (35,28): 438, ElfNumber: pos: (35,42): 482, ElfNumber: pos: (35,48): 200, ElfNumber: pos: (35,67): 49, ElfNumber: pos: (35,80): 312, ElfNumber: pos: (35,85): 847, ElfNumber: pos: (35,101): 548, ElfNumber: pos: (35,113): 581, ElfNumber: pos: (35,118): 909, ElfNumber: pos: (35,130): 879, ElfNumber: pos: (35,134): 616, ElfNumber: pos: (36,63): 475, ElfNumber: pos: (36,90): 528, ElfNumber: pos: (36,96): 578, ElfNumber: pos: (36,106): 211, ElfNumber: pos: (36,125): 791, ElfNumber: pos: (37,15): 802, ElfNumber: pos: (37,32): 250, ElfNumber: pos: (37,72): 229, ElfNumber: pos: (37,83): 923, ElfNumber: pos: (37,116): 635, ElfNumber: pos: (38,1): 552, ElfNumber: pos: (38,10): 762, ElfNumber: pos: (38,45): 940, ElfNumber: pos: (38,54): 651, ElfNumber: pos: (38,68): 461, ElfNumber: pos: (38,79): 900, ElfNumber: pos: (38,96): 654, ElfNumber: pos: (38,102): 673, ElfNumber: pos: (38,126): 437, ElfNumber: pos: (38,131): 993, ElfNumber: pos: (39,25): 52, ElfNumber: pos: (39,39): 602, ElfNumber: pos: (39,61): 105, ElfNumber: pos: (39,84): 938, ElfNumber: pos: (39,90): 431, ElfNumber: pos: (39,122): 157, ElfNumber: pos: (39,135): 310, ElfNumber: pos: (40,4): 581, ElfNumber: pos: (40,35): 309, ElfNumber: pos: (40,57): 846, ElfNumber: pos: (40,66): 718, ElfNumber: pos: (40,79): 568, ElfNumber: pos: (40,97): 261, ElfNumber: pos: (40,115): 22, ElfNumber: pos: (40,127): 852, ElfNumber: pos: (41,9): 969, ElfNumber: pos: (41,13): 349, ElfNumber: pos: (41,18): 354, ElfNumber: pos: (41,42): 156, ElfNumber: pos: (41,46): 666, ElfNumber: pos: (41,71): 378, ElfNumber: pos: (41,93): 632, ElfNumber: pos: (41,111): 363, ElfNumber: pos: (41,131): 976, ElfNumber: pos: (41,135): 871, ElfNumber: pos: (42,6): 60, ElfNumber: pos: (42,26): 10, ElfNumber: pos: (42,34): 684, ElfNumber: pos: (42,52): 225, ElfNumber: pos: (42,59): 248, ElfNumber: pos: (42,75): 904, ElfNumber: pos: (42,88): 638, ElfNumber: pos: (42,98): 896, ElfNumber: pos: (42,123): 906, ElfNumber: pos: (42,127): 926, ElfNumber: pos: (43,14): 602, ElfNumber: pos: (43,22): 958, ElfNumber: pos: (43,30): 103, ElfNumber: pos: (43,43): 703, ElfNumber: pos: (43,82): 456, ElfNumber: pos: (43,94): 704, ElfNumber: pos: (43,106): 149, ElfNumber: pos: (43,112): 785, ElfNumber: pos: (43,116): 2, ElfNumber: pos: (43,131): 87, ElfNumber: pos: (43,136): 95, ElfNumber: pos: (44,5): 228, ElfNumber: pos: (44,10): 589, ElfNumber: pos: (44,50): 770, ElfNumber: pos: (44,55): 588, ElfNumber: pos: (44,69): 411, ElfNumber: pos: (44,74): 902, ElfNumber: pos: (44,127): 645, ElfNumber: pos: (45,17): 135, ElfNumber: pos: (45,31): 909, ElfNumber: pos: (45,35): 857, ElfNumber: pos: (45,39): 207, ElfNumber: pos: (45,44): 602, ElfNumber: pos: (45,86): 358, ElfNumber: pos: (45,103): 535, ElfNumber: pos: (45,132): 235, ElfNumber: pos: (46,6): 126, ElfNumber: pos: (46,11): 747, ElfNumber: pos: (46,26): 513, ElfNumber: pos: (46,49): 125, ElfNumber: pos: (46,57): 389, ElfNumber: pos: (46,62): 956, ElfNumber: pos: (46,70): 164, ElfNumber: pos: (46,76): 797, ElfNumber: pos: (46,93): 807, ElfNumber: pos: (46,98): 34, ElfNumber: pos: (46,109): 754, ElfNumber: pos: (46,113): 734, ElfNumber: pos: (46,121): 140, ElfNumber: pos: (46,138): 969, ElfNumber: pos: (47,18): 919, ElfNumber: pos: (47,22): 213, ElfNumber: pos: (47,30): 232, ElfNumber: pos: (47,45): 530, ElfNumber: pos: (47,66): 583, ElfNumber: pos: (47,88): 986, ElfNumber: pos: (47,117): 186, ElfNumber: pos: (47,126): 881, ElfNumber: pos: (47,131): 859, ElfNumber: pos: (48,4): 937, ElfNumber: pos: (48,13): 881, ElfNumber: pos: (48,26): 774, ElfNumber: pos: (48,36): 345, ElfNumber: pos: (48,53): 894, ElfNumber: pos: (48,60): 644, ElfNumber: pos: (48,74): 588, ElfNumber: pos: (48,94): 520, ElfNumber: pos: (48,99): 323, ElfNumber: pos: (48,104): 218, ElfNumber: pos: (49,8): 401, ElfNumber: pos: (49,20): 359, ElfNumber: pos: (49,33): 19, ElfNumber: pos: (49,44): 728, ElfNumber: pos: (49,64): 670, ElfNumber: pos: (49,84): 674, ElfNumber: pos: (49,88): 511, ElfNumber: pos: (49,110): 580, ElfNumber: pos: (49,121): 203, ElfNumber: pos: (49,134): 470, ElfNumber: pos: (50,12): 610, ElfNumber: pos: (50,29): 836, ElfNumber: pos: (50,37): 299, ElfNumber: pos: (50,49): 832, ElfNumber: pos: (50,78): 690, ElfNumber: pos: (50,92): 528, ElfNumber: pos: (50,102): 21, ElfNumber: pos: (51,7): 991, ElfNumber: pos: (51,24): 365, ElfNumber: pos: (51,43): 447, ElfNumber: pos: (51,54): 857, ElfNumber: pos: (51,60): 227, ElfNumber: pos: (51,64): 605, ElfNumber: pos: (51,82): 599, ElfNumber: pos: (51,111): 602, ElfNumber: pos: (51,117): 529, ElfNumber: pos: (51,131): 10, ElfNumber: pos: (52,12): 471, ElfNumber: pos: (52,17): 443, ElfNumber: pos: (52,68): 252, ElfNumber: pos: (52,73): 417, ElfNumber: pos: (52,87): 653, ElfNumber: pos: (52,103): 412, ElfNumber: pos: (52,107): 727, ElfNumber: pos: (52,123): 634, ElfNumber: pos: (52,127): 304, ElfNumber: pos: (52,137): 42, ElfNumber: pos: (53,6): 494, ElfNumber: pos: (53,43): 552, ElfNumber: pos: (53,51): 852, ElfNumber: pos: (53,94): 550, ElfNumber: pos: (53,98): 520, ElfNumber: pos: (53,113): 80, ElfNumber: pos: (53,116): 174, ElfNumber: pos: (53,132): 437, ElfNumber: pos: (54,17): 536, ElfNumber: pos: (54,32): 969, ElfNumber: pos: (54,47): 519, ElfNumber: pos: (54,57): 448, ElfNumber: pos: (54,68): 251, ElfNumber: pos: (54,89): 794, ElfNumber: pos: (54,123): 701, ElfNumber: pos: (55,3): 373, ElfNumber: pos: (55,11): 930, ElfNumber: pos: (55,26): 298, ElfNumber: pos: (55,42): 76, ElfNumber: pos: (55,84): 856, ElfNumber: pos: (55,94): 899, ElfNumber: pos: (55,111): 96, ElfNumber: pos: (55,115): 40, ElfNumber: pos: (55,131): 574, ElfNumber: pos: (56,15): 518, ElfNumber: pos: (56,20): 575, ElfNumber: pos: (56,34): 957, ElfNumber: pos: (56,38): 112, ElfNumber: pos: (56,48): 479, ElfNumber: pos: (56,52): 579, ElfNumber: pos: (56,59): 288, ElfNumber: pos: (56,64): 306, ElfNumber: pos: (56,79): 817, ElfNumber: pos: (56,106): 785, ElfNumber: pos: (56,118): 9, ElfNumber: pos: (56,126): 127, ElfNumber: pos: (56,136): 907, ElfNumber: pos: (57,4): 698, ElfNumber: pos: (57,25): 329, ElfNumber: pos: (57,45): 92, ElfNumber: pos: (57,71): 203, ElfNumber: pos: (57,84): 168, ElfNumber: pos: (57,111): 346, ElfNumber: pos: (58,8): 470, ElfNumber: pos: (58,19): 68, ElfNumber: pos: (58,36): 263, ElfNumber: pos: (58,54): 337, ElfNumber: pos: (58,75): 433, ElfNumber: pos: (58,106): 666, ElfNumber: pos: (58,117): 92, ElfNumber: pos: (58,125): 20, ElfNumber: pos: (58,129): 784, ElfNumber: pos: (58,134): 978, ElfNumber: pos: (58,138): 194, ElfNumber: pos: (59,27): 465, ElfNumber: pos: (59,44): 297, ElfNumber: pos: (59,61): 193, ElfNumber: pos: (59,65): 259, ElfNumber: pos: (59,113): 17, ElfNumber: pos: (60,85): 580, ElfNumber: pos: (60,95): 763, ElfNumber: pos: (60,116): 747, ElfNumber: pos: (60,123): 519, ElfNumber: pos: (60,130): 628, ElfNumber: pos: (60,135): 647, ElfNumber: pos: (61,7): 900, ElfNumber: pos: (61,15): 261, ElfNumber: pos: (61,28): 722, ElfNumber: pos: (61,32): 553, ElfNumber: pos: (61,40): 284, ElfNumber: pos: (61,44): 513, ElfNumber: pos: (61,54): 429, ElfNumber: pos: (61,71): 155, ElfNumber: pos: (61,91): 914, ElfNumber: pos: (61,104): 468, ElfNumber: pos: (62,50): 932, ElfNumber: pos: (62,59): 413, ElfNumber: pos: (62,66): 414, ElfNumber: pos: (62,75): 829, ElfNumber: pos: (62,83): 528, ElfNumber: pos: (62,97): 527, ElfNumber: pos: (62,116): 382, ElfNumber: pos: (62,122): 835, ElfNumber: pos: (62,136): 744, ElfNumber: pos: (63,5): 918, ElfNumber: pos: (63,14): 103, ElfNumber: pos: (63,18): 37, ElfNumber: pos: (63,22): 207, ElfNumber: pos: (63,28): 676, ElfNumber: pos: (63,32): 297, ElfNumber: pos: (63,43): 422, ElfNumber: pos: (63,70): 993, ElfNumber: pos: (63,89): 140, ElfNumber: pos: (63,111): 945, ElfNumber: pos: (63,127): 686, ElfNumber: pos: (64,39): 423, ElfNumber: pos: (64,49): 459, ElfNumber: pos: (64,61): 602, ElfNumber: pos: (64,122): 978, ElfNumber: pos: (65,19): 414, ElfNumber: pos: (65,31): 41, ElfNumber: pos: (65,45): 673, ElfNumber: pos: (65,54): 543, ElfNumber: pos: (65,67): 848, ElfNumber: pos: (65,71): 276, ElfNumber: pos: (65,81): 388, ElfNumber: pos: (65,87): 792, ElfNumber: pos: (65,98): 700, ElfNumber: pos: (65,102): 152, ElfNumber: pos: (65,111): 596, ElfNumber: pos: (65,128): 791, ElfNumber: pos: (65,138): 485, ElfNumber: pos: (66,6): 615, ElfNumber: pos: (66,11): 55, ElfNumber: pos: (66,40): 859, ElfNumber: pos: (66,59): 363, ElfNumber: pos: (66,91): 858, ElfNumber: pos: (66,119): 556, ElfNumber: pos: (66,134): 748, ElfNumber: pos: (67,30): 775, ElfNumber: pos: (67,35): 467, ElfNumber: pos: (67,48): 700, ElfNumber: pos: (67,66): 492, ElfNumber: pos: (67,77): 862, ElfNumber: pos: (67,87): 266, ElfNumber: pos: (67,100): 319, ElfNumber: pos: (67,115): 88, ElfNumber: pos: (67,127): 724, ElfNumber: pos: (67,138): 291, ElfNumber: pos: (68,25): 942, ElfNumber: pos: (68,41): 530, ElfNumber: pos: (68,56): 259, ElfNumber: pos: (68,62): 872, ElfNumber: pos: (68,73): 157, ElfNumber: pos: (68,81): 287, ElfNumber: pos: (68,96): 687, ElfNumber: pos: (68,118): 438, ElfNumber: pos: (68,133): 233, ElfNumber: pos: (69,19): 641, ElfNumber: pos: (69,30): 534, ElfNumber: pos: (69,34): 546, ElfNumber: pos: (69,47): 802, ElfNumber: pos: (69,51): 847, ElfNumber: pos: (69,104): 13, ElfNumber: pos: (69,129): 677, ElfNumber: pos: (70,5): 604, ElfNumber: pos: (70,15): 158, ElfNumber: pos: (70,26): 818, ElfNumber: pos: (70,59): 947, ElfNumber: pos: (70,78): 24, ElfNumber: pos: (70,84): 516, ElfNumber: pos: (70,98): 332, ElfNumber: pos: (70,112): 573, ElfNumber: pos: (70,134): 697, ElfNumber: pos: (71,9): 2, ElfNumber: pos: (71,66): 162, ElfNumber: pos: (71,73): 27, ElfNumber: pos: (71,89): 860, ElfNumber: pos: (71,93): 284, ElfNumber: pos: (71,102): 540, ElfNumber: pos: (71,107): 309, ElfNumber: pos: (72,25): 678, ElfNumber: pos: (72,36): 337, ElfNumber: pos: (72,47): 105, ElfNumber: pos: (72,51): 469, ElfNumber: pos: (72,61): 49, ElfNumber: pos: (72,84): 641, ElfNumber: pos: (72,115): 644, ElfNumber: pos: (72,133): 128, ElfNumber: pos: (73,41): 386, ElfNumber: pos: (73,57): 203, ElfNumber: pos: (73,66): 497, ElfNumber: pos: (73,70): 404, ElfNumber: pos: (73,102): 795, ElfNumber: pos: (73,123): 670, ElfNumber: pos: (74,20): 369, ElfNumber: pos: (74,29): 814, ElfNumber: pos: (74,49): 359, ElfNumber: pos: (74,85): 41, ElfNumber: pos: (74,98): 353, ElfNumber: pos: (74,106): 263, ElfNumber: pos: (74,128): 700, ElfNumber: pos: (74,135): 102, ElfNumber: pos: (75,4): 862, ElfNumber: pos: (75,13): 430, ElfNumber: pos: (75,44): 682, ElfNumber: pos: (75,61): 195, ElfNumber: pos: (75,65): 456, ElfNumber: pos: (75,78): 379, ElfNumber: pos: (75,110): 790, ElfNumber: pos: (75,116): 987, ElfNumber: pos: (76,21): 565, ElfNumber: pos: (76,40): 689, ElfNumber: pos: (76,69): 296, ElfNumber: pos: (76,97): 599, ElfNumber: pos: (76,102): 689, ElfNumber: pos: (76,106): 829, ElfNumber: pos: (76,132): 910, ElfNumber: pos: (77,1): 513, ElfNumber: pos: (77,10): 721, ElfNumber: pos: (77,46): 645, ElfNumber: pos: (77,50): 343, ElfNumber: pos: (77,54): 105, ElfNumber: pos: (77,65): 1, ElfNumber: pos: (77,86): 349, ElfNumber: pos: (77,112): 785, ElfNumber: pos: (77,125): 832, ElfNumber: pos: (78,22): 50, ElfNumber: pos: (78,25): 15, ElfNumber: pos: (78,41): 272, ElfNumber: pos: (78,61): 242, ElfNumber: pos: (78,67): 306, ElfNumber: pos: (78,129): 159, ElfNumber: pos: (78,133): 59, ElfNumber: pos: (79,15): 190, ElfNumber: pos: (79,33): 88, ElfNumber: pos: (79,47): 229, ElfNumber: pos: (79,56): 310, ElfNumber: pos: (79,71): 330, ElfNumber: pos: (79,85): 149, ElfNumber: pos: (79,98): 89, ElfNumber: pos: (79,107): 333, ElfNumber: pos: (79,115): 771, ElfNumber: pos: (79,123): 701, ElfNumber: pos: (79,136): 522, ElfNumber: pos: (80,5): 354, ElfNumber: pos: (80,38): 561, ElfNumber: pos: (80,60): 73, ElfNumber: pos: (80,67): 336, ElfNumber: pos: (80,76): 40, ElfNumber: pos: (80,80): 906, ElfNumber: pos: (80,89): 16, ElfNumber: pos: (80,129): 563, ElfNumber: pos: (81,22): 948, ElfNumber: pos: (81,27): 844, ElfNumber: pos: (81,44): 556, ElfNumber: pos: (81,50): 51, ElfNumber: pos: (81,96): 744, ElfNumber: pos: (81,104): 361, ElfNumber: pos: (81,116): 15, ElfNumber: pos: (81,119): 644, ElfNumber: pos: (81,125): 9, ElfNumber: pos: (81,137): 686, ElfNumber: pos: (82,9): 535, ElfNumber: pos: (82,13): 796, ElfNumber: pos: (82,35): 907, ElfNumber: pos: (82,54): 286, ElfNumber: pos: (82,60): 918, ElfNumber: pos: (82,67): 714, ElfNumber: pos: (82,84): 688, ElfNumber: pos: (82,88): 232, ElfNumber: pos: (82,108): 51, ElfNumber: pos: (82,132): 284, ElfNumber: pos: (83,22): 755, ElfNumber: pos: (83,42): 255, ElfNumber: pos: (83,75): 292, ElfNumber: pos: (83,101): 453, ElfNumber: pos: (83,113): 913, ElfNumber: pos: (83,137): 810, ElfNumber: pos: (84,13): 354, ElfNumber: pos: (84,51): 361, ElfNumber: pos: (84,56): 406, ElfNumber: pos: (84,60): 802, ElfNumber: pos: (84,66): 112, ElfNumber: pos: (84,71): 461, ElfNumber: pos: (84,86): 162, ElfNumber: pos: (84,108): 991, ElfNumber: pos: (85,22): 892, ElfNumber: pos: (85,32): 654, ElfNumber: pos: (85,40): 705, ElfNumber: pos: (85,94): 385, ElfNumber: pos: (85,122): 506, ElfNumber: pos: (85,130): 506, ElfNumber: pos: (86,2): 444, ElfNumber: pos: (86,7): 482, ElfNumber: pos: (86,65): 619, ElfNumber: pos: (86,73): 19, ElfNumber: pos: (86,76): 239, ElfNumber: pos: (86,84): 187, ElfNumber: pos: (86,88): 993, ElfNumber: pos: (86,126): 718, ElfNumber: pos: (86,137): 884, ElfNumber: pos: (87,15): 906, ElfNumber: pos: (87,19): 182, ElfNumber: pos: (87,24): 473, ElfNumber: pos: (87,42): 58, ElfNumber: pos: (87,47): 407, ElfNumber: pos: (87,51): 591, ElfNumber: pos: (87,55): 583, ElfNumber: pos: (87,105): 1, ElfNumber: pos: (87,110): 310, ElfNumber: pos: (87,114): 196, ElfNumber: pos: (88,7): 820, ElfNumber: pos: (88,34): 343, ElfNumber: pos: (88,39): 61, ElfNumber: pos: (88,59): 663, ElfNumber: pos: (88,75): 490, ElfNumber: pos: (88,83): 209, ElfNumber: pos: (88,88): 921, ElfNumber: pos: (88,95): 288, ElfNumber: pos: (88,120): 484, ElfNumber: pos: (88,126): 956, ElfNumber: pos: (88,138): 324, ElfNumber: pos: (89,30): 189, ElfNumber: pos: (89,47): 963, ElfNumber: pos: (89,53): 878, ElfNumber: pos: (89,63): 782, ElfNumber: pos: (89,68): 955, ElfNumber: pos: (89,103): 72, ElfNumber: pos: (89,116): 406, ElfNumber: pos: (90,4): 188, ElfNumber: pos: (90,13): 861, ElfNumber: pos: (90,20): 239, ElfNumber: pos: (90,24): 818, ElfNumber: pos: (90,78): 7, ElfNumber: pos: (90,83): 892, ElfNumber: pos: (90,99): 705, ElfNumber: pos: (90,106): 197, ElfNumber: pos: (90,110): 20, ElfNumber: pos: (90,123): 204, ElfNumber: pos: (90,132): 429, ElfNumber: pos: (91,41): 236, ElfNumber: pos: (91,45): 425, ElfNumber: pos: (91,49): 147, ElfNumber: pos: (91,54): 816, ElfNumber: pos: (91,71): 739, ElfNumber: pos: (91,113): 473, ElfNumber: pos: (91,119): 455, ElfNumber: pos: (92,6): 718, ElfNumber: pos: (92,10): 939, ElfNumber: pos: (92,15): 679, ElfNumber: pos: (92,58): 182, ElfNumber: pos: (92,62): 281, ElfNumber: pos: (92,77): 597, ElfNumber: pos: (92,87): 360, ElfNumber: pos: (92,92): 324, ElfNumber: pos: (92,96): 161, ElfNumber: pos: (92,106): 8, ElfNumber: pos: (92,108): 671, ElfNumber: pos: (92,126): 971, ElfNumber: pos: (93,22): 318, ElfNumber: pos: (93,26): 698, ElfNumber: pos: (93,30): 778, ElfNumber: pos: (93,35): 691, ElfNumber: pos: (93,44): 648, ElfNumber: pos: (93,48): 806, ElfNumber: pos: (93,53): 387, ElfNumber: pos: (93,81): 174, ElfNumber: pos: (93,102): 133, ElfNumber: pos: (93,117): 25, ElfNumber: pos: (94,14): 620, ElfNumber: pos: (94,40): 986, ElfNumber: pos: (94,74): 587, ElfNumber: pos: (94,114): 15, ElfNumber: pos: (94,122): 264, ElfNumber: pos: (94,128): 128, ElfNumber: pos: (94,136): 998, ElfNumber: pos: (95,9): 436, ElfNumber: pos: (95,18): 267, ElfNumber: pos: (95,23): 557, ElfNumber: pos: (95,30): 827, ElfNumber: pos: (95,56): 746, ElfNumber: pos: (95,61): 48, ElfNumber: pos: (95,64): 411, ElfNumber: pos: (95,68): 309, ElfNumber: pos: (95,90): 547, ElfNumber: pos: (96,3): 690, ElfNumber: pos: (96,34): 724, ElfNumber: pos: (96,47): 772, ElfNumber: pos: (96,72): 787, ElfNumber: pos: (96,83): 462, ElfNumber: pos: (96,98): 89, ElfNumber: pos: (96,102): 777, ElfNumber: pos: (96,110): 794, ElfNumber: pos: (96,126): 120, ElfNumber: pos: (96,130): 662, ElfNumber: pos: (96,137): 429, ElfNumber: pos: (97,11): 575, ElfNumber: pos: (97,15): 874, ElfNumber: pos: (97,26): 450, ElfNumber: pos: (97,30): 379, ElfNumber: pos: (97,38): 120, ElfNumber: pos: (97,42): 944, ElfNumber: pos: (97,55): 10, ElfNumber: pos: (97,63): 378, ElfNumber: pos: (97,67): 888, ElfNumber: pos: (97,114): 542, ElfNumber: pos: (98,19): 388, ElfNumber: pos: (98,48): 108, ElfNumber: pos: (98,59): 243, ElfNumber: pos: (98,76): 468, ElfNumber: pos: (98,90): 363, ElfNumber: pos: (98,99): 132, ElfNumber: pos: (98,132): 391, ElfNumber: pos: (99,31): 554, ElfNumber: pos: (99,35): 494, ElfNumber: pos: (99,42): 784, ElfNumber: pos: (99,54): 310, ElfNumber: pos: (99,71): 458, ElfNumber: pos: (99,86): 753, ElfNumber: pos: (99,104): 217, ElfNumber: pos: (99,110): 174, ElfNumber: pos: (99,115): 23, ElfNumber: pos: (99,118): 108, ElfNumber: pos: (99,124): 853, ElfNumber: pos: (99,128): 233, ElfNumber: pos: (100,3): 636, ElfNumber: pos: (100,7): 425, ElfNumber: pos: (100,14): 343, ElfNumber: pos: (100,26): 455, ElfNumber: pos: (100,46): 87, ElfNumber: pos: (100,98): 823, ElfNumber: pos: (100,134): 898, ElfNumber: pos: (101,18): 728, ElfNumber: pos: (101,22): 747, ElfNumber: pos: (101,32): 770, ElfNumber: pos: (101,42): 913, ElfNumber: pos: (101,51): 855, ElfNumber: pos: (101,55): 159, ElfNumber: pos: (101,64): 618, ElfNumber: pos: (101,84): 779, ElfNumber: pos: (101,90): 94, ElfNumber: pos: (101,103): 375, ElfNumber: pos: (101,108): 318, ElfNumber: pos: (101,112): 410, ElfNumber: pos: (101,118): 324, ElfNumber: pos: (101,122): 209, ElfNumber: pos: (102,26): 399, ElfNumber: pos: (102,47): 905, ElfNumber: pos: (102,59): 24, ElfNumber: pos: (102,69): 192, ElfNumber: pos: (102,79): 760, ElfNumber: pos: (102,98): 785, ElfNumber: pos: (102,136): 468, ElfNumber: pos: (103,8): 674, ElfNumber: pos: (103,12): 414, ElfNumber: pos: (103,19): 108, ElfNumber: pos: (103,30): 498, ElfNumber: pos: (103,35): 443, ElfNumber: pos: (103,51): 660, ElfNumber: pos: (103,104): 980, ElfNumber: pos: (104,2): 462, ElfNumber: pos: (104,45): 654, ElfNumber: pos: (104,62): 669, ElfNumber: pos: (104,76): 427, ElfNumber: pos: (104,100): 14, ElfNumber: pos: (104,108): 921, ElfNumber: pos: (104,118): 897, ElfNumber: pos: (104,134): 862, ElfNumber: pos: (105,12): 292, ElfNumber: pos: (105,17): 370, ElfNumber: pos: (105,24): 751, ElfNumber: pos: (105,31): 639, ElfNumber: pos: (105,54): 403, ElfNumber: pos: (105,71): 74, ElfNumber: pos: (105,80): 537, ElfNumber: pos: (105,84): 504, ElfNumber: pos: (105,88): 130, ElfNumber: pos: (105,104): 779, ElfNumber: pos: (105,114): 89, ElfNumber: pos: (105,123): 615, ElfNumber: pos: (105,127): 423, ElfNumber: pos: (106,36): 958, ElfNumber: pos: (106,45): 23, ElfNumber: pos: (106,50): 160, ElfNumber: pos: (106,74): 228, ElfNumber: pos: (106,96): 66, ElfNumber: pos: (106,119): 378, ElfNumber: pos: (106,131): 735, ElfNumber: pos: (107,24): 68, ElfNumber: pos: (107,27): 584, ElfNumber: pos: (107,32): 125, ElfNumber: pos: (107,41): 898, ElfNumber: pos: (107,61): 130, ElfNumber: pos: (107,81): 927, ElfNumber: pos: (107,89): 75, ElfNumber: pos: (107,102): 613, ElfNumber: pos: (107,109): 414, ElfNumber: pos: (108,5): 909, ElfNumber: pos: (108,10): 968, ElfNumber: pos: (108,51): 935, ElfNumber: pos: (108,68): 966, ElfNumber: pos: (108,94): 374, ElfNumber: pos: (108,121): 73, ElfNumber: pos: (108,131): 611, ElfNumber: pos: (108,136): 888, ElfNumber: pos: (109,14): 231, ElfNumber: pos: (109,36): 93, ElfNumber: pos: (109,47): 157, ElfNumber: pos: (109,64): 252, ElfNumber: pos: (109,72): 900, ElfNumber: pos: (109,76): 869, ElfNumber: pos: (109,82): 269, ElfNumber: pos: (109,101): 550, ElfNumber: pos: (109,107): 352, ElfNumber: pos: (109,112): 123, ElfNumber: pos: (109,125): 7, ElfNumber: pos: (109,127): 888, ElfNumber: pos: (110,8): 833, ElfNumber: pos: (110,26): 277, ElfNumber: pos: (110,32): 860, ElfNumber: pos: (110,95): 973, ElfNumber: pos: (110,118): 697, ElfNumber: pos: (110,133): 765, ElfNumber: pos: (110,138): 153, ElfNumber: pos: (111,15): 920, ElfNumber: pos: (111,21): 569, ElfNumber: pos: (111,49): 499, ElfNumber: pos: (111,68): 44, ElfNumber: pos: (111,80): 36, ElfNumber: pos: (111,102): 406, ElfNumber: pos: (111,106): 98, ElfNumber: pos: (111,114): 295, ElfNumber: pos: (111,127): 94, ElfNumber: pos: (112,6): 28, ElfNumber: pos: (112,25): 413, ElfNumber: pos: (112,35): 333, ElfNumber: pos: (112,44): 984, ElfNumber: pos: (112,61): 984, ElfNumber: pos: (112,75): 878, ElfNumber: pos: (112,109): 958, ElfNumber: pos: (112,118): 43, ElfNumber: pos: (112,123): 829, ElfNumber: pos: (112,130): 746, ElfNumber: pos: (113,20): 320, ElfNumber: pos: (113,30): 799, ElfNumber: pos: (113,40): 696, ElfNumber: pos: (113,48): 211, ElfNumber: pos: (113,83): 232, ElfNumber: pos: (113,88): 915, ElfNumber: pos: (113,96): 209, ElfNumber: pos: (113,135): 510, ElfNumber: pos: (114,8): 429, ElfNumber: pos: (114,53): 624, ElfNumber: pos: (114,57): 736, ElfNumber: pos: (114,70): 342, ElfNumber: pos: (114,77): 960, ElfNumber: pos: (114,117): 186, ElfNumber: pos: (114,124): 402, ElfNumber: pos: (115,5): 16, ElfNumber: pos: (115,16): 838, ElfNumber: pos: (115,32): 477, ElfNumber: pos: (115,91): 977, ElfNumber: pos: (115,96): 996, ElfNumber: pos: (115,109): 255, ElfNumber: pos: (115,113): 212, ElfNumber: pos: (116,1): 245, ElfNumber: pos: (116,12): 88, ElfNumber: pos: (116,20): 209, ElfNumber: pos: (116,40): 283, ElfNumber: pos: (116,44): 920, ElfNumber: pos: (116,48): 456, ElfNumber: pos: (116,66): 410, ElfNumber: pos: (116,83): 353, ElfNumber: pos: (116,133): 846, ElfNumber: pos: (117,8): 699, ElfNumber: pos: (117,70): 580, ElfNumber: pos: (117,95): 659, ElfNumber: pos: (117,124): 184, ElfNumber: pos: (118,3): 890, ElfNumber: pos: (118,13): 485, ElfNumber: pos: (118,65): 16, ElfNumber: pos: (118,77): 589, ElfNumber: pos: (118,99): 754, ElfNumber: pos: (118,103): 802, ElfNumber: pos: (118,114): 485, ElfNumber: pos: (118,130): 784, ElfNumber: pos: (119,8): 28, ElfNumber: pos: (119,19): 303, ElfNumber: pos: (119,26): 405, ElfNumber: pos: (119,31): 442, ElfNumber: pos: (119,41): 768, ElfNumber: pos: (119,50): 476, ElfNumber: pos: (119,55): 273, ElfNumber: pos: (119,59): 961, ElfNumber: pos: (119,68): 843, ElfNumber: pos: (119,82): 161, ElfNumber: pos: (119,89): 813, ElfNumber: pos: (119,118): 470, ElfNumber: pos: (119,135): 111, ElfNumber: pos: (120,46): 303, ElfNumber: pos: (120,77): 255, ElfNumber: pos: (120,98): 326, ElfNumber: pos: (120,102): 309, ElfNumber: pos: (120,107): 814, ElfNumber: pos: (120,111): 469, ElfNumber: pos: (120,128): 5, ElfNumber: pos: (121,5): 208, ElfNumber: pos: (121,13): 910, ElfNumber: pos: (121,17): 514, ElfNumber: pos: (121,22): 148, ElfNumber: pos: (121,27): 261, ElfNumber: pos: (121,32): 334, ElfNumber: pos: (121,50): 674, ElfNumber: pos: (121,55): 597, ElfNumber: pos: (121,85): 439, ElfNumber: pos: (121,94): 36, ElfNumber: pos: (121,118): 876, ElfNumber: pos: (121,124): 468, ElfNumber: pos: (122,40): 205, ElfNumber: pos: (122,46): 525, ElfNumber: pos: (122,60): 863, ElfNumber: pos: (122,65): 190, ElfNumber: pos: (122,75): 115, ElfNumber: pos: (122,102): 17, ElfNumber: pos: (122,110): 731, ElfNumber: pos: (122,129): 626, ElfNumber: pos: (123,3): 984, ElfNumber: pos: (123,10): 994, ElfNumber: pos: (123,20): 396, ElfNumber: pos: (123,30): 587, ElfNumber: pos: (123,53): 558, ElfNumber: pos: (123,91): 112, ElfNumber: pos: (123,97): 364, ElfNumber: pos: (123,125): 599, ElfNumber: pos: (123,136): 824, ElfNumber: pos: (124,72): 935, ElfNumber: pos: (124,76): 56, ElfNumber: pos: (124,86): 146, ElfNumber: pos: (125,8): 563, ElfNumber: pos: (125,29): 896, ElfNumber: pos: (125,36): 216, ElfNumber: pos: (125,40): 192, ElfNumber: pos: (125,66): 588, ElfNumber: pos: (125,80): 423, ElfNumber: pos: (125,96): 657, ElfNumber: pos: (125,102): 894, ElfNumber: pos: (125,107): 678, ElfNumber: pos: (125,113): 57, ElfNumber: pos: (125,133): 813, ElfNumber: pos: (126,20): 186, ElfNumber: pos: (126,49): 796, ElfNumber: pos: (126,53): 916, ElfNumber: pos: (126,76): 810, ElfNumber: pos: (126,86): 532, ElfNumber: pos: (126,116): 394, ElfNumber: pos: (126,126): 885, ElfNumber: pos: (126,137): 871, ElfNumber: pos: (127,13): 484, ElfNumber: pos: (127,24): 101, ElfNumber: pos: (127,28): 208, ElfNumber: pos: (127,42): 42, ElfNumber: pos: (127,59): 623, ElfNumber: pos: (127,68): 592, ElfNumber: pos: (127,82): 572, ElfNumber: pos: (127,92): 545, ElfNumber: pos: (127,104): 677, ElfNumber: pos: (128,2): 479, ElfNumber: pos: (128,9): 25, ElfNumber: pos: (128,19): 535, ElfNumber: pos: (128,37): 627, ElfNumber: pos: (128,54): 652, ElfNumber: pos: (128,64): 808, ElfNumber: pos: (128,74): 926, ElfNumber: pos: (128,78): 522, ElfNumber: pos: (128,109): 671, ElfNumber: pos: (128,113): 33, ElfNumber: pos: (128,116): 499, ElfNumber: pos: (128,132): 514, ElfNumber: pos: (129,24): 951, ElfNumber: pos: (129,28): 472, ElfNumber: pos: (129,43): 215, ElfNumber: pos: (129,91): 451, ElfNumber: pos: (129,99): 152, ElfNumber: pos: (129,129): 58, ElfNumber: pos: (129,138): 903, ElfNumber: pos: (130,11): 178, ElfNumber: pos: (130,40): 64, ElfNumber: pos: (130,48): 22, ElfNumber: pos: (130,51): 244, ElfNumber: pos: (130,57): 898, ElfNumber: pos: (130,77): 514, ElfNumber: pos: (130,87): 460, ElfNumber: pos: (130,105): 947, ElfNumber: pos: (130,118): 823, ElfNumber: pos: (130,125): 368, ElfNumber: pos: (131,20): 120, ElfNumber: pos: (131,34): 289, ElfNumber: pos: (131,73): 723, ElfNumber: pos: (131,113): 368, ElfNumber: pos: (131,133): 349, ElfNumber: pos: (131,138): 304, ElfNumber: pos: (132,27): 402, ElfNumber: pos: (132,41): 914, ElfNumber: pos: (132,46): 707, ElfNumber: pos: (132,62): 630, ElfNumber: pos: (132,99): 419, ElfNumber: pos: (132,107): 654, ElfNumber: pos: (133,7): 981, ElfNumber: pos: (133,11): 131, ElfNumber: pos: (133,18): 809, ElfNumber: pos: (133,22): 755, ElfNumber: pos: (133,36): 318, ElfNumber: pos: (133,53): 248, ElfNumber: pos: (133,69): 195, ElfNumber: pos: (133,80): 338, ElfNumber: pos: (133,93): 23, ElfNumber: pos: (133,115): 395, ElfNumber: pos: (133,120): 223, ElfNumber: pos: (133,128): 626, ElfNumber: pos: (133,132): 498, ElfNumber: pos: (133,136): 681, ElfNumber: pos: (134,30): 271, ElfNumber: pos: (134,40): 457, ElfNumber: pos: (134,59): 384, ElfNumber: pos: (134,65): 633, ElfNumber: pos: (134,85): 638, ElfNumber: pos: (134,90): 46, ElfNumber: pos: (134,100): 144, ElfNumber: pos: (135,4): 915, ElfNumber: pos: (135,27): 14, ElfNumber: pos: (135,46): 595, ElfNumber: pos: (135,51): 806, ElfNumber: pos: (135,76): 523, ElfNumber: pos: (135,80): 603, ElfNumber: pos: (135,111): 165, ElfNumber: pos: (135,115): 824, ElfNumber: pos: (135,123): 789, ElfNumber: pos: (135,131): 347, ElfNumber: pos: (136,19): 47, ElfNumber: pos: (136,34): 761, ElfNumber: pos: (136,38): 265, ElfNumber: pos: (136,42): 150, ElfNumber: pos: (136,61): 967, ElfNumber: pos: (136,72): 565, ElfNumber: pos: (136,91): 296, ElfNumber: pos: (136,127): 671, ElfNumber: pos: (136,136): 379, ElfNumber: pos: (137,15): 967, ElfNumber: pos: (137,28): 197, ElfNumber: pos: (137,86): 660, ElfNumber: pos: (137,99): 292, ElfNumber: pos: (137,115): 993, ElfNumber: pos: (137,132): 581, ElfNumber: pos: (138,23): 279, ElfNumber: pos: (138,44): 755, ElfNumber: pos: (138,70): 712, ElfNumber: pos: (138,103): 827, ElfNumber: pos: (139,35): 115, ElfNumber: pos: (139,56): 400, ElfNumber: pos: (139,82): 1, ElfNumber: pos: (139,84): 292, ElfNumber: pos: (139,90): 602, ElfNumber: pos: (139,113): 321, ElfNumber: pos: (139,130): 728, ElfNumber: pos: (140,3): 579, ElfNumber: pos: (140,8): 410, ElfNumber: pos: (140,13): 3, ElfNumber: pos: (140,16): 44, ElfNumber: pos: (140,19): 291, ElfNumber: pos: (140,48): 538, ElfNumber: pos: (140,69): 148, ElfNumber: pos: (140,76): 873, ElfNumber: pos: (140,96): 461, ElfNumber: pos: (140,135): 722]\n",
      "530495\n"
     ]
    }
   ],
   "source": [
    "with open(input) as f:\n",
    "    lines = f.readlines()\n",
    "    lines =  [line.replace(\"\\n\", \"\") for line in lines]\n",
    "    nof_cols = get_max_nof_cols(lines) + 2\n",
    "    nof_rows = len(lines) +2\n",
    "\n",
    "    playground = np.zeros((nof_rows, nof_cols))\n",
    "    numbers = []\n",
    "    \n",
    "    for i in range(0,nof_rows-2):\n",
    "        parse_line(i+1,lines[i], playground, numbers)\n",
    "\n",
    "\n",
    "    print(playground)\n",
    "    print(numbers)\n",
    "\n",
    "    sum = 0\n",
    "    for number in numbers:\n",
    "        val = 0\n",
    "        for pos in number.get_adjacent_positions():\n",
    "            val += playground[pos[0], pos[1]]\n",
    "        if val > 0:\n",
    "            sum += number.value\n",
    "    print(sum)\n",
    "\n",
    "\n",
    "\n",
    "\n",
    "\n"
   ]
  },
  {
   "cell_type": "code",
   "execution_count": 7,
   "metadata": {},
   "outputs": [
    {
     "name": "stdout",
     "output_type": "stream",
     "text": [
      "ElfNumber: pos: (2,3): 972\n",
      "ElfNumber: pos: (6,7): 123\n"
     ]
    }
   ],
   "source": [
    "a = ElfNumber((2,3),9)\n",
    "a.addValue(7)\n",
    "a.addValue(2)\n",
    "\n",
    "b = ElfNumber((6,7),1)\n",
    "b.addValue(2)\n",
    "b.addValue(3)\n",
    "\n",
    "print(a)\n",
    "print(b)\n",
    "#print(a.get_adjacent_positions())\n",
    "\n",
    "\n"
   ]
  },
  {
   "cell_type": "code",
   "execution_count": null,
   "metadata": {},
   "outputs": [],
   "source": []
  }
 ],
 "metadata": {
  "kernelspec": {
   "display_name": "Python 3",
   "language": "python",
   "name": "python3"
  },
  "language_info": {
   "codemirror_mode": {
    "name": "ipython",
    "version": 3
   },
   "file_extension": ".py",
   "mimetype": "text/x-python",
   "name": "python",
   "nbconvert_exporter": "python",
   "pygments_lexer": "ipython3",
   "version": "3.10.12"
  }
 },
 "nbformat": 4,
 "nbformat_minor": 2
}
