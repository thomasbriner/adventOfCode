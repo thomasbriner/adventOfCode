{
 "cells": [
  {
   "cell_type": "code",
   "execution_count": 1,
   "metadata": {},
   "outputs": [],
   "source": [
    "#input_file = 'test_input1.txt'\n",
    "input_file = 'input1.txt'\n",
    "\n",
    "#input_file = 'test_input2.txt'\n",
    "#input_file = 'input2.txt'\n",
    "\n",
    "#input_file='intermediate.txt'"
   ]
  },
  {
   "cell_type": "code",
   "execution_count": 2,
   "metadata": {},
   "outputs": [],
   "source": [
    "def getNumber(line):\n",
    "    first = None\n",
    "    last = None\n",
    "    for c in line:\n",
    "        if c.isdigit():\n",
    "            first = int(c)\n",
    "            break\n",
    "    for c in line[::-1]:\n",
    "        if c.isdigit():\n",
    "            last = int(c)\n",
    "            break\n",
    "    return 10*first + last\n",
    "        \n"
   ]
  },
  {
   "cell_type": "code",
   "execution_count": 3,
   "metadata": {},
   "outputs": [],
   "source": [
    "replacements = [('one',1),('two',2),('three',3),('four',4),('five',5),('six',6),('seven',7),('eight',8),('nine',9)]\n",
    "\n",
    "def repl(line):\n",
    "    repl_line = line\n",
    "    for i in range(0,len(repl_line)):\n",
    "        for word, digit in replacements:\n",
    "            if len(repl_line) >= i+len(word) and repl_line[i: i+len(word)] == word:\n",
    "                repl_line = repl_line[:i]+str(digit)+repl_line[i+len(word):]\n",
    "    print(repl_line)\n",
    "    return repl_line\n",
    "\n",
    "    "
   ]
  },
  {
   "cell_type": "code",
   "execution_count": 8,
   "metadata": {},
   "outputs": [],
   "source": [
    "def number_line(line):\n",
    "    number_line=''\n",
    "    for i in range(0,len(line)):\n",
    "        if line[i].isdigit():\n",
    "            number_line += line[i]\n",
    "        else:\n",
    "            for word, digit in replacements:\n",
    "                if len(line) >= i+len(word) and line[i: i+len(word)] == word:\n",
    "                    number_line += str(digit)\n",
    "    #print(number_line)\n",
    "    return number_line\n",
    "\n"
   ]
  },
  {
   "cell_type": "code",
   "execution_count": 9,
   "metadata": {},
   "outputs": [
    {
     "name": "stdout",
     "output_type": "stream",
     "text": [
      "54925\n"
     ]
    }
   ],
   "source": [
    "with open(input_file) as f:\n",
    "    lines = f.readlines()\n",
    "    sum = 0\n",
    "    for line in lines:\n",
    "        sum += getNumber(number_line(line))\n",
    "    print(sum)\n",
    "\n",
    "\n"
   ]
  },
  {
   "cell_type": "code",
   "execution_count": null,
   "metadata": {},
   "outputs": [],
   "source": []
  }
 ],
 "metadata": {
  "kernelspec": {
   "display_name": "Python 3",
   "language": "python",
   "name": "python3"
  },
  "language_info": {
   "codemirror_mode": {
    "name": "ipython",
    "version": 3
   },
   "file_extension": ".py",
   "mimetype": "text/x-python",
   "name": "python",
   "nbconvert_exporter": "python",
   "pygments_lexer": "ipython3",
   "version": "3.10.12"
  }
 },
 "nbformat": 4,
 "nbformat_minor": 2
}
