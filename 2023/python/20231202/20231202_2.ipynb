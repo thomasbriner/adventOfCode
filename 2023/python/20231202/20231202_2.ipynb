{
 "cells": [
  {
   "cell_type": "code",
   "execution_count": 1,
   "metadata": {},
   "outputs": [],
   "source": [
    "import pandas as pd"
   ]
  },
  {
   "cell_type": "code",
   "execution_count": 3,
   "metadata": {},
   "outputs": [],
   "source": [
    "input = 'test_input1.txt'\n",
    "#input = 'input.txt'"
   ]
  },
  {
   "cell_type": "code",
   "execution_count": 4,
   "metadata": {},
   "outputs": [
    {
     "data": {
      "text/plain": [
       "[(1, {'blue': 3, 'red': 4}),\n",
       " (1, {'red': 1, 'green': 2, 'blue': 6}),\n",
       " (1, {'green': 2}),\n",
       " (2, {'blue': 1, 'green': 2}),\n",
       " (2, {'green': 3, 'blue': 4, 'red': 1}),\n",
       " (2, {'green': 1, 'blue': 1}),\n",
       " (3, {'green': 8, 'blue': 6, 'red': 20}),\n",
       " (3, {'blue': 5, 'red': 4, 'green': 13}),\n",
       " (3, {'green': 5, 'red': 1}),\n",
       " (4, {'green': 1, 'red': 3, 'blue': 6}),\n",
       " (4, {'green': 3, 'red': 6}),\n",
       " (4, {'green': 3, 'blue': 15, 'red': 14}),\n",
       " (5, {'red': 6, 'blue': 1, 'green': 3}),\n",
       " (5, {'blue': 2, 'red': 1, 'green': 2})]"
      ]
     },
     "execution_count": 4,
     "metadata": {},
     "output_type": "execute_result"
    }
   ],
   "source": [
    "colors = ['red', 'green', 'blue']\n",
    "\n",
    "\n",
    "with open(input) as f:\n",
    "    games = []\n",
    "    lines = f.readlines()\n",
    "    for line in lines:\n",
    "        parts = line.split(\":\")\n",
    "        gameNr = int(parts[0].replace(\"Game\",\"\").strip())\n",
    "        rounds = parts[1].split(\";\")\n",
    "        for round in rounds:\n",
    "            dices = {}\n",
    "            round = round.replace(\"\\n\",\"\")\n",
    "            dicesWithColors = round.split(\",\")\n",
    "            for dicesOfSingleColor in dicesWithColors:\n",
    "                for color in colors:\n",
    "                    if color in dicesOfSingleColor:\n",
    "                        dices[color] = int(dicesOfSingleColor.replace(color,\"\").strip())\n",
    "            games.append((gameNr, dices))    \n",
    "\n",
    "games        "
   ]
  },
  {
   "cell_type": "code",
   "execution_count": 9,
   "metadata": {},
   "outputs": [],
   "source": [
    "game_max = max(map(lambda x: x[0], games))"
   ]
  },
  {
   "cell_type": "code",
   "execution_count": 16,
   "metadata": {},
   "outputs": [
    {
     "ename": "SyntaxError",
     "evalue": "unmatched ']' (2255702888.py, line 9)",
     "output_type": "error",
     "traceback": [
      "\u001b[0;36m  Cell \u001b[0;32mIn[16], line 9\u001b[0;36m\u001b[0m\n\u001b[0;31m    if color in round]:\u001b[0m\n\u001b[0m                     ^\u001b[0m\n\u001b[0;31mSyntaxError\u001b[0m\u001b[0;31m:\u001b[0m unmatched ']'\n"
     ]
    }
   ],
   "source": [
    "for i in range(1,game_max):\n",
    "    specific_game_rounds = [round for round in games if round[0] == i]\n",
    "    min_dices = {}\n",
    "    for color in colors:\n",
    "        min_dices[color] = 0\n",
    "    for game_round in specific_game_rounds:\n",
    "        round = game_round[1]\n",
    "        for color in colors:\n",
    "            if color in round:\n",
    "                if round[color] > min_dices[color]:\n",
    "                    min_dices[color] = round[color]\n",
    "    print(min_dices)\n",
    "\n",
    "\n",
    "\n",
    "    print(specific_game_rounds)"
   ]
  },
  {
   "cell_type": "code",
   "execution_count": null,
   "metadata": {},
   "outputs": [],
   "source": []
  }
 ],
 "metadata": {
  "kernelspec": {
   "display_name": "Python 3",
   "language": "python",
   "name": "python3"
  },
  "language_info": {
   "codemirror_mode": {
    "name": "ipython",
    "version": 3
   },
   "file_extension": ".py",
   "mimetype": "text/x-python",
   "name": "python",
   "nbconvert_exporter": "python",
   "pygments_lexer": "ipython3",
   "version": "3.10.12"
  }
 },
 "nbformat": 4,
 "nbformat_minor": 2
}
